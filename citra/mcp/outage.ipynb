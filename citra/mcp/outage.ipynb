{
 "cells": [
  {
   "cell_type": "code",
   "execution_count": null,
   "id": "591c82f2",
   "metadata": {},
   "outputs": [],
   "source": [
    "import datetime\n",
    "import re\n",
    "import sys\n",
    "from datetime import date\n",
    "\n",
    "from langchain_community.chat_models import ChatTongyi\n",
    "from langchain_core.messages import AIMessage, HumanMessage\n",
    "from langchain_core.tools import StructuredTool, tool\n",
    "from pydantic import BaseModel, Field\n",
    "\n",
    "sys.path.append('e:/code/python/WangXiang')\n",
    "chatllm = ChatTongyi(model='qwen-max')"
   ]
  },
  {
   "cell_type": "code",
   "execution_count": 11,
   "id": "7dce27d1",
   "metadata": {},
   "outputs": [
    {
     "name": "stdout",
     "output_type": "stream",
     "text": [
      "数据库连接成功\n"
     ]
    }
   ],
   "source": [
    "from citra.mcp.db_utils import get_connection\n",
    "\n",
    "conn = get_connection()"
   ]
  },
  {
   "cell_type": "code",
   "execution_count": null,
   "id": "c479b017",
   "metadata": {},
   "outputs": [],
   "source": [
    "@tool\n",
    "def collect_outage_info(\n",
    "    line_name: str, occur_time: date = date(1000, 1, 1), end_time: date = date(3000, 12, 31)\n",
    ") -> str:\n",
    "    \"\"\"停电明细（汇总）查询。获取某条线路(line_name)在过去一段时间（start_time，end_time）内属于某个供电所（unit_name）的停电汇总信息。\"\"\"\n",
    "    # cursor.execute(f'select count(*)  from t_event_alarm_inter where lineName={line_name} LIMIT 1')\n",
    "    # if cursor.fetchone() is None:\n",
    "    #     return f'线路{line_name}不存在，请检查线路名称'\n",
    "    with conn.cursor() as cursor:\n",
    "        query = f\"select count(*)  from t_event_alarm_inter where  occurTime>='{occur_time}' and (endTime<='{end_time}' or endTime is null)\"\n",
    "        cursor.execute(query)\n",
    "        count = cursor.fetchall()[0][0]\n",
    "    return f'{line_name}在{occur_time}到{end_time}间的停电次数为：{count}'\n",
    "\n",
    "\n",
    "@tool\n",
    "def count_outage(line_name: str, occur_time: date = date(1000, 1, 1), end_time: date = date(3000, 12, 31)) -> str:\n",
    "    \"\"\"停电次数查询。计数某条线路(line_name)在过去一段时间（start_time，end_time）的停电次数。\"\"\"\n",
    "    today = datetime.date.today().strftime('%Y-%m-%d')\n",
    "    query = f\"select  COUNT(*) as count from t_event_alarm_inter where lineName LIKE '{line_name}%' and occurTime>='{today}' \"\n",
    "\n",
    "    with conn.cursor() as cursor:\n",
    "        cursor.execute(query)\n",
    "        count = cursor.fetchall()[0][0]\n",
    "    return f'{line_name}今天的停电次数为：{count}'\n"
   ]
  },
  {
   "cell_type": "code",
   "execution_count": null,
   "id": "da3957e9",
   "metadata": {},
   "outputs": [],
   "source": [
    "def create_sql(question: str) -> str:\n",
    "    query = (\n",
    "        str(\n",
    "            chatllm.invoke(f\"\"\"编写一条 SQL 查询语句，仅输出 SQL，不要输出解释说明。表结构：CREATE TABLE \\\n",
    "                            t_event_alarm_inter (equipName设备名称,lineName线路名称,faultType停电类型,\\\n",
    "                           occurTime停电开始时间,endTime停电结束时间,\n",
    "                            gdsName 供电所单位名称，unitName供电公司名称。问题：{question} \"\"\")\n",
    "        )\n",
    "        .replace('`', '')\n",
    "        .replace('\\\\n', ' ')\n",
    "    )\n",
    "    search = re.search(r'((select|SELECT)[^\"]+)', query)\n",
    "    if search:\n",
    "        return search.group()\n",
    "    return ''\n"
   ]
  },
  {
   "cell_type": "code",
   "execution_count": null,
   "id": "4293acbf",
   "metadata": {},
   "outputs": [],
   "source": [
    "def execute_sql(sql: str):\n",
    "    with conn.cursor() as cursor:\n",
    "        cursor.execute(sql)\n",
    "        results = cursor.fetchall()\n",
    "        result_strings = []\n",
    "        columns = [desc[0] for desc in cursor.description]\n",
    "        result_strings.append(' '.join(columns))\n",
    "        for row in results:\n",
    "            row_str = ' '.join(str(item) for item in row)\n",
    "            result_strings.append(row_str)\n",
    "\n",
    "        # 最后拼接成一个字符串，用换行符隔开\n",
    "        final_result = '\\n'.join(result_strings)\n",
    "\n",
    "        return final_result"
   ]
  },
  {
   "cell_type": "code",
   "execution_count": 210,
   "id": "21b39be9",
   "metadata": {},
   "outputs": [
    {
     "name": "stdout",
     "output_type": "stream",
     "text": [
      "SELECT gdsName, COUNT(*) AS powerOutageCount FROM t_event_alarm_inter WHERE unitName = '三门供电公司'  AND occurTime >= DATE_FORMAT(CURDATE(), '%Y-%m-01') AND occurTime < DATE_FORMAT(CURDATE() + INTERVAL 1 MONTH, '%Y-%m-01') GROUP BY gdsName; \n",
      "gdsName powerOutageCount\n",
      "健跳供电所 29\n",
      "浦坝港供电所 11\n",
      "滨海供电所 17\n",
      "珠岙供电所 59\n",
      "花桥供电所 109\n"
     ]
    }
   ],
   "source": [
    "sq = create_sql('三门供电公司按供电所维度统计本月配变停电次数')\n",
    "print(sq)\n",
    "print(execute_sql(sq))"
   ]
  },
  {
   "cell_type": "code",
   "execution_count": null,
   "id": "9c20aa1d",
   "metadata": {},
   "outputs": [
    {
     "name": "stdout",
     "output_type": "stream",
     "text": [
      "渔港S400线 专变停电 2025-04-29 10:42:00 None 新港供电所\n",
      "兴港S501线 专变停电 2025-04-29 08:57:47 None 新港供电所\n",
      "纪海S215线 专变停电 2025-04-30 12:30:55 2025-04-30 12:51:30 新港供电所\n",
      "蔡家S676线 公变停电 2025-04-30 02:42:42 2025-04-30 03:00:15 港城供电所\n",
      "蔡家S676线 公变停电 2025-04-30 02:42:18 2025-04-30 03:00:39 港城供电所\n",
      "蔡家S676线 公变停电 2025-04-30 02:41:06 2025-04-30 03:06:36 港城供电所\n",
      "蔡家S676线 公变停电 2025-04-30 02:41:05 2025-04-30 03:00:26 港城供电所\n",
      "蔡家S676线 专变停电 2025-04-30 02:41:04 2025-04-30 03:05:45 港城供电所\n",
      "蔡家S676线 专变停电 2025-04-30 02:41:02 2025-04-30 03:05:43 港城供电所\n",
      "蔡家S676线 专变停电 2025-04-30 02:41:01 2025-04-30 03:05:43 港城供电所\n",
      "蔡家S676线 专变停电 2025-04-30 02:41:00 2025-04-30 03:05:00 港城供电所\n",
      "蔡家S676线 专变停电 2025-04-30 02:41:00 2025-04-30 03:05:00 港城供电所\n",
      "蔡家S676线 专变停电 2025-04-30 02:41:00 2025-04-30 03:06:48 港城供电所\n",
      "蔡家S676线 专变停电 2025-04-30 02:40:59 2025-04-30 03:23:58 港城供电所\n",
      "蔡家S676线 公变停电 2025-04-30 02:40:55 2025-04-30 03:06:34 港城供电所\n",
      "蔡家S676线 公变停电 2025-04-30 02:40:00 2025-04-30 02:59:00 港城供电所\n",
      "蔡家S676线 公变停电 2025-04-30 02:40:00 2025-04-30 03:00:05 港城供电所\n",
      "蔡家S676线 公变停电 2025-04-30 02:40:00 2025-04-30 03:06:40 港城供电所\n",
      "蔡家S676线 公变停电 2025-04-30 02:40:00 2025-04-30 02:59:00 港城供电所\n",
      "蔡家S676线 公变停电 2025-04-30 02:40:00 2025-04-30 03:06:17 港城供电所\n",
      "蔡家S676线 公变停电 2025-04-30 02:40:00 2025-04-30 02:59:48 港城供电所\n",
      "蔡家S676线 公变停电 2025-04-30 02:40:00 2025-04-30 03:06:00 港城供电所\n",
      "化工S672线 公变停电 2025-04-30 02:38:51 2025-04-30 02:39:16 港城供电所\n",
      "化工S672线 公变停电 2025-04-30 02:38:29 2025-04-30 02:38:53 港城供电所\n",
      "化工S672线 公变停电 2025-04-30 02:38:16 2025-04-30 02:38:40 港城供电所\n",
      "化工S672线 公变停电 2025-04-30 02:38:16 2025-04-30 02:38:40 港城供电所\n",
      "化工S672线 公变停电 2025-04-30 02:38:06 2025-04-30 02:38:47 港城供电所\n",
      "化工S672线 公变停电 2025-04-30 02:37:55 2025-04-30 02:38:36 港城供电所\n",
      "化工S672线 公变停电 2025-04-30 02:37:00 2025-04-30 02:40:33 港城供电所\n",
      "化工S672线 公变停电 2025-04-30 02:37:00 2025-04-30 02:38:00 港城供电所\n",
      "化工S672线 公变停电 2025-04-30 02:37:00 2025-04-30 02:38:00 港城供电所\n",
      "化工S672线 公变停电 2025-04-30 02:37:00 2025-04-30 02:38:00 港城供电所\n",
      "化工S672线 公变停电 2025-04-30 02:37:00 2025-04-30 02:40:33 港城供电所\n",
      "化工S672线 公变停电 2025-04-30 02:37:00 2025-04-30 02:39:15 港城供电所\n",
      "化工S672线 公变停电 2025-04-30 02:37:00 2025-04-30 02:40:33 港城供电所\n",
      "化工S672线 公变停电 2025-04-30 02:37:00 2025-04-30 02:39:19 港城供电所\n",
      "化工S672线 公变停电 2025-04-30 02:37:00 2025-04-30 02:40:33 港城供电所\n",
      "化工S672线 公变停电 2025-04-30 02:37:00 2025-04-30 02:38:00 港城供电所\n",
      "化工S672线 公变停电 2025-04-30 02:37:00 2025-04-30 02:40:33 港城供电所\n",
      "化工S672线 公变停电 2025-04-30 02:37:00 2025-04-30 02:40:33 港城供电所\n",
      "缪家S682线 公变停电 2025-04-30 02:35:00 2025-04-30 02:36:00 新港供电所\n",
      "缪家S682线 公变停电 2025-04-30 02:35:00 2025-04-30 02:36:00 新港供电所\n",
      "缪家S682线 公变停电 2025-04-30 02:35:00 2025-04-30 02:36:00 新港供电所\n",
      "缪家S682线 公变停电 2025-04-30 02:35:00 2025-04-30 02:36:00 新港供电所\n",
      "能科C291线 公变停电 2025-04-29 14:50:00 2025-04-29 15:04:00 新港供电所\n",
      "启源C296线 专变停电 2025-05-01 09:15:39 2025-05-01 09:22:10 新港供电所\n",
      "海源S216线 专变停电 2025-05-01 09:47:32 2025-05-01 10:53:58 新港供电所\n",
      "海源S216线 专变停电 2025-05-01 09:47:32 2025-05-01 10:52:20 新港供电所\n",
      "东塘S211线 专变停电 2025-05-01 09:47:30 2025-05-01 10:51:21 新港供电所\n",
      "东塘S211线 专变停电 2025-05-01 09:47:30 2025-05-01 10:54:13 新港供电所\n",
      "海源S216线 专变停电 2025-05-01 09:47:29 2025-05-01 10:54:28 新港供电所\n",
      "海源S216线 专变停电 2025-05-01 09:47:27 2025-05-01 10:54:55 新港供电所\n",
      "东塘S211线 专变停电 2025-05-01 09:47:26 2025-05-01 10:52:16 新港供电所\n",
      "东塘S211线 专变停电 2025-05-01 09:47:25 2025-05-01 10:52:54 新港供电所\n",
      "东塘S211线 专变停电 2025-05-01 09:47:25 2025-05-01 10:52:02 新港供电所\n",
      "东塘S211线 专变停电 2025-05-01 09:47:25 2025-05-01 10:53:24 新港供电所\n",
      "海源S216线 专变停电 2025-05-01 09:47:25 2025-05-01 10:53:11 新港供电所\n",
      "东塘S211线 专变停电 2025-05-01 09:47:24 2025-05-01 10:55:10 新港供电所\n",
      "东塘S211线 专变停电 2025-05-01 09:47:23 2025-05-01 10:53:57 新港供电所\n",
      "东塘S211线 专变停电 2025-05-01 09:47:00 2025-05-01 10:59:09 新港供电所\n",
      "东塘S211线 专变停电 2025-05-01 09:47:00 2025-05-01 10:54:38 新港供电所\n",
      "东塘S211线 公变停电 2025-05-01 09:47:00 2025-05-01 11:01:16 新港供电所\n",
      "东塘S211线 专变停电 2025-05-01 09:47:30 2025-05-01 10:51:08 新港供电所\n",
      "海源S216线 专变停电 2025-05-01 09:47:29 2025-05-01 10:52:17 新港供电所\n",
      "东塘S211线 专变停电 2025-05-01 09:47:29 2025-05-01 10:54:40 新港供电所\n",
      "海源S216线 专变停电 2025-05-01 09:47:29 2025-05-01 10:51:34 新港供电所\n",
      "海源S216线 专变停电 2025-05-01 09:47:26 2025-05-01 10:52:34 新港供电所\n",
      "海源S216线 专变停电 2025-05-01 09:47:25 2025-05-01 10:53:46 新港供电所\n",
      "东塘S211线 专变停电 2025-05-01 09:47:23 2025-05-01 10:54:22 新港供电所\n",
      "纪海S215线 专变停电 2025-05-01 11:35:18 2025-05-01 11:47:53 新港供电所\n",
      "东塘S211线 专变停电 2025-05-01 13:29:34 2025-05-01 17:03:59 新港供电所\n",
      "能科C291线 公变停电 2025-05-02 13:02:00 2025-05-02 13:03:00 新港供电所\n",
      "纪海S215线 专变停电 2025-05-03 11:17:18 2025-05-03 11:26:41 新港供电所\n",
      "纪海S215线 专变停电 2025-05-03 12:42:01 2025-05-03 12:49:06 新港供电所\n",
      "启源C296线 专变停电 2025-05-04 14:43:42 2025-05-04 14:58:48 新港供电所\n",
      "砖瓦S939线 公变停电 2025-05-05 10:20:33 2025-05-05 10:24:25 港城供电所\n",
      "砖瓦S939线 公变停电 2025-05-05 10:20:17 2025-05-05 10:22:57 港城供电所\n",
      "砖瓦S939线 公变停电 2025-05-05 10:19:40 2025-05-05 10:22:05 港城供电所\n",
      "砖瓦S939线 公变停电 2025-05-05 10:19:35 2025-05-05 10:22:57 港城供电所\n",
      "砖瓦S939线 专变停电 2025-05-05 10:19:13 2025-05-05 10:25:12 港城供电所\n",
      "砖瓦S939线 专变停电 2025-05-05 10:19:11 2025-05-05 10:24:59 港城供电所\n",
      "砖瓦S939线 公变停电 2025-05-05 10:19:00 2025-05-05 10:23:37 港城供电所\n",
      "砖瓦S939线 公变停电 2025-05-05 10:19:00 2025-05-05 10:22:41 港城供电所\n",
      "砖瓦S939线 公变停电 2025-05-05 10:19:00 2025-05-05 10:23:36 港城供电所\n",
      "砖瓦S939线 公变停电 2025-05-05 10:19:00 2025-05-05 10:23:37 港城供电所\n",
      "砖瓦S939线 公变停电 2025-05-05 10:19:00 2025-05-05 10:23:38 港城供电所\n",
      "砖瓦S939线 公变停电 2025-05-05 10:19:00 2025-05-05 10:23:38 港城供电所\n",
      "砖瓦S939线 公变停电 2025-05-05 10:19:00 2025-05-05 10:22:22 港城供电所\n",
      "砖瓦S939线 公变停电 2025-05-05 10:19:00 2025-05-05 10:23:37 港城供电所\n",
      "砖瓦S939线 公变停电 2025-05-05 10:19:00 2025-05-05 10:22:24 港城供电所\n",
      "砖瓦S939线 专变停电 2025-05-05 10:19:21 2025-05-05 10:24:48 港城供电所\n",
      "砖瓦S939线 专变停电 2025-05-05 10:19:00 2025-05-05 10:27:08 港城供电所\n",
      "砖瓦S939线 专变停电 2025-05-05 10:19:00 2025-05-05 10:26:42 港城供电所\n",
      "砖瓦S939线 专变停电 2025-05-05 10:19:00 2025-05-05 10:26:56 港城供电所\n",
      "砖瓦S939线 专变停电 2025-05-05 10:19:00 2025-05-05 10:25:31 港城供电所\n",
      "砖瓦S939线 公变停电 2025-05-05 10:19:30 2025-05-05 10:22:10 港城供电所\n",
      "砖瓦S939线 公变停电 2025-05-05 10:19:00 2025-05-05 10:21:00 港城供电所\n",
      "砖瓦S939线 公变停电 2025-05-05 10:19:00 2025-05-05 10:21:00 港城供电所\n",
      "砖瓦S939线 专变停电 2025-05-05 10:19:00 2025-05-05 10:27:13 港城供电所\n",
      "双庆S304线 专变停电 2025-05-06 10:45:00 2025-05-06 13:42:09 港城供电所\n",
      "曙光S687线 公变停电 2025-05-06 13:53:00 2025-05-06 14:05:31 港城供电所\n",
      "海景C282线 专变停电 2025-05-06 13:55:07 2025-05-06 13:59:37 新港供电所\n",
      "瓦窑S125线 公变停电 2025-05-07 09:05:05 2025-05-07 09:11:47 港城供电所\n",
      "西排S941线 公变停电 2025-05-07 10:25:20 2025-05-07 10:25:27 港城供电所\n",
      "西排S941线 公变停电 2025-05-07 11:23:49 2025-05-07 11:57:49 港城供电所\n",
      "产业C288线 专变停电 2025-05-07 11:32:02 None 新港供电所\n",
      "能科C291线 公变停电 2025-05-07 15:01:00 2025-05-07 15:01:00 新港供电所\n",
      "实业C280线 专变停电 2025-05-08 10:11:44 2025-05-08 11:20:00 新港供电所\n",
      "能科C291线 公变停电 2025-05-08 13:49:00 2025-05-08 13:58:00 新港供电所\n",
      "卢处S314线 公变停电 2025-05-08 17:19:40 2025-05-08 18:16:23 港城供电所\n",
      "卢处S314线 公变停电 2025-05-08 17:19:00 2025-05-08 18:15:56 港城供电所\n",
      "卢处S314线 公变停电 2025-05-08 17:19:00 2025-05-08 18:15:53 港城供电所\n",
      "卢处S314线 公变停电 2025-05-08 17:19:00 2025-05-08 18:15:53 港城供电所\n",
      "卢处S314线 公变停电 2025-05-08 17:19:00 2025-05-08 18:15:57 港城供电所\n",
      "卢处S314线 公变停电 2025-05-08 17:19:00 2025-05-08 18:16:15 港城供电所\n",
      "卢处S314线 公变停电 2025-05-08 17:19:00 2025-05-08 18:15:54 港城供电所\n",
      "卢处S314线 公变停电 2025-05-08 17:19:00 2025-05-08 18:17:12 港城供电所\n",
      "卢处S314线 智能开关跳闸 2025-05-08 17:18:59 2025-05-08 18:14:43 港城供电所\n",
      "卢处S314线 专变停电 2025-05-08 17:19:00 2025-05-08 18:15:00 港城供电所\n",
      "卢处S314线 公变停电 2025-05-08 17:20:31 2025-05-08 18:16:31 港城供电所\n",
      "卢处S314线 公变停电 2025-05-08 17:19:40 2025-05-08 18:16:18 港城供电所\n",
      "新区C284线 专变停电 2025-05-08 22:19:25 2025-05-08 23:14:25 新港供电所\n",
      "新区C284线 专变停电 2025-05-08 22:19:15 2025-05-08 22:57:13 新港供电所\n",
      "海景C282线 专变停电 2025-05-08 22:19:20 2025-05-09 07:26:09 新港供电所\n",
      "海塘C281线 专变停电 2025-05-08 22:19:13 2025-05-08 22:47:08 新港供电所\n",
      "典字S502线 公变停电 2025-05-09 07:46:34 2025-05-09 07:48:13 新港供电所\n",
      "合创S214线 公变停电 2025-05-09 09:31:00 2025-05-09 09:36:09 新港供电所\n",
      "合创S214线 公变缺相 2025-05-09 09:30:00 2025-05-09 10:15:00 新港供电所\n",
      "海景C282线 专变停电 2025-05-09 12:19:18 2025-05-09 12:23:24 新港供电所\n",
      "启源C296线 专变停电 2025-05-09 14:17:21 2025-05-09 14:22:42 新港供电所\n",
      "典字S502线 公变停电 2025-05-09 18:23:07 2025-05-09 18:23:31 新港供电所\n",
      "新都S621线 故指短路 2025-05-09 20:50:01 2025-05-09 20:59:01 港城供电所\n",
      "新都S621线 故指短路 2025-05-09 20:49:58 2025-05-09 20:59:58 港城供电所\n",
      "新都S621线 公变停电 2025-05-09 20:50:00 2025-05-09 20:50:00 港城供电所\n"
     ]
    }
   ],
   "source": []
  },
  {
   "cell_type": "code",
   "execution_count": null,
   "id": "e82051b0",
   "metadata": {},
   "outputs": [],
   "source": [
    "请问中市S487线3个月内停电次数"
   ]
  },
  {
   "cell_type": "code",
   "execution_count": null,
   "id": "843b45b0",
   "metadata": {},
   "outputs": [
    {
     "ename": "OperationalError",
     "evalue": "(1305, 'FUNCTION wj2.DATEADD does not exist')",
     "output_type": "error",
     "traceback": [
      "\u001b[31m---------------------------------------------------------------------------\u001b[39m",
      "\u001b[31mOperationalError\u001b[39m                          Traceback (most recent call last)",
      "\u001b[36mCell\u001b[39m\u001b[36m \u001b[39m\u001b[32mIn[162]\u001b[39m\u001b[32m, line 1\u001b[39m\n\u001b[32m----> \u001b[39m\u001b[32m1\u001b[39m \u001b[43mask_sql\u001b[49m\u001b[43m(\u001b[49m\u001b[33;43m\"\u001b[39;49m\u001b[33;43m请问中市S487线3个月内停电次数\u001b[39;49m\u001b[33;43m\"\u001b[39;49m\u001b[43m)\u001b[49m\n",
      "\u001b[36mCell\u001b[39m\u001b[36m \u001b[39m\u001b[32mIn[159]\u001b[39m\u001b[32m, line 9\u001b[39m, in \u001b[36mask_sql\u001b[39m\u001b[34m(question)\u001b[39m\n\u001b[32m      7\u001b[39m query_norm=search.group()\n\u001b[32m      8\u001b[39m \u001b[38;5;28;01mwith\u001b[39;00m conn.cursor() \u001b[38;5;28;01mas\u001b[39;00m cursor:\n\u001b[32m----> \u001b[39m\u001b[32m9\u001b[39m   \u001b[43mcursor\u001b[49m\u001b[43m.\u001b[49m\u001b[43mexecute\u001b[49m\u001b[43m(\u001b[49m\u001b[38;5;28;43mstr\u001b[39;49m\u001b[43m(\u001b[49m\u001b[43mquery_norm\u001b[49m\u001b[43m)\u001b[49m\u001b[43m)\u001b[49m\n\u001b[32m     10\u001b[39m   result = cursor.fetchall()\n\u001b[32m     11\u001b[39m   \u001b[38;5;28;01mif\u001b[39;00m result:\n",
      "\u001b[36mFile \u001b[39m\u001b[32me:\\code\\python\\WangXiang\\elec\\Lib\\site-packages\\pymysql\\cursors.py:153\u001b[39m, in \u001b[36mCursor.execute\u001b[39m\u001b[34m(self, query, args)\u001b[39m\n\u001b[32m    149\u001b[39m     \u001b[38;5;28;01mpass\u001b[39;00m\n\u001b[32m    151\u001b[39m query = \u001b[38;5;28mself\u001b[39m.mogrify(query, args)\n\u001b[32m--> \u001b[39m\u001b[32m153\u001b[39m result = \u001b[38;5;28;43mself\u001b[39;49m\u001b[43m.\u001b[49m\u001b[43m_query\u001b[49m\u001b[43m(\u001b[49m\u001b[43mquery\u001b[49m\u001b[43m)\u001b[49m\n\u001b[32m    154\u001b[39m \u001b[38;5;28mself\u001b[39m._executed = query\n\u001b[32m    155\u001b[39m \u001b[38;5;28;01mreturn\u001b[39;00m result\n",
      "\u001b[36mFile \u001b[39m\u001b[32me:\\code\\python\\WangXiang\\elec\\Lib\\site-packages\\pymysql\\cursors.py:322\u001b[39m, in \u001b[36mCursor._query\u001b[39m\u001b[34m(self, q)\u001b[39m\n\u001b[32m    320\u001b[39m conn = \u001b[38;5;28mself\u001b[39m._get_db()\n\u001b[32m    321\u001b[39m \u001b[38;5;28mself\u001b[39m._clear_result()\n\u001b[32m--> \u001b[39m\u001b[32m322\u001b[39m \u001b[43mconn\u001b[49m\u001b[43m.\u001b[49m\u001b[43mquery\u001b[49m\u001b[43m(\u001b[49m\u001b[43mq\u001b[49m\u001b[43m)\u001b[49m\n\u001b[32m    323\u001b[39m \u001b[38;5;28mself\u001b[39m._do_get_result()\n\u001b[32m    324\u001b[39m \u001b[38;5;28;01mreturn\u001b[39;00m \u001b[38;5;28mself\u001b[39m.rowcount\n",
      "\u001b[36mFile \u001b[39m\u001b[32me:\\code\\python\\WangXiang\\elec\\Lib\\site-packages\\pymysql\\connections.py:563\u001b[39m, in \u001b[36mConnection.query\u001b[39m\u001b[34m(self, sql, unbuffered)\u001b[39m\n\u001b[32m    561\u001b[39m     sql = sql.encode(\u001b[38;5;28mself\u001b[39m.encoding, \u001b[33m\"\u001b[39m\u001b[33msurrogateescape\u001b[39m\u001b[33m\"\u001b[39m)\n\u001b[32m    562\u001b[39m \u001b[38;5;28mself\u001b[39m._execute_command(COMMAND.COM_QUERY, sql)\n\u001b[32m--> \u001b[39m\u001b[32m563\u001b[39m \u001b[38;5;28mself\u001b[39m._affected_rows = \u001b[38;5;28;43mself\u001b[39;49m\u001b[43m.\u001b[49m\u001b[43m_read_query_result\u001b[49m\u001b[43m(\u001b[49m\u001b[43munbuffered\u001b[49m\u001b[43m=\u001b[49m\u001b[43munbuffered\u001b[49m\u001b[43m)\u001b[49m\n\u001b[32m    564\u001b[39m \u001b[38;5;28;01mreturn\u001b[39;00m \u001b[38;5;28mself\u001b[39m._affected_rows\n",
      "\u001b[36mFile \u001b[39m\u001b[32me:\\code\\python\\WangXiang\\elec\\Lib\\site-packages\\pymysql\\connections.py:825\u001b[39m, in \u001b[36mConnection._read_query_result\u001b[39m\u001b[34m(self, unbuffered)\u001b[39m\n\u001b[32m    823\u001b[39m \u001b[38;5;28;01melse\u001b[39;00m:\n\u001b[32m    824\u001b[39m     result = MySQLResult(\u001b[38;5;28mself\u001b[39m)\n\u001b[32m--> \u001b[39m\u001b[32m825\u001b[39m     \u001b[43mresult\u001b[49m\u001b[43m.\u001b[49m\u001b[43mread\u001b[49m\u001b[43m(\u001b[49m\u001b[43m)\u001b[49m\n\u001b[32m    826\u001b[39m \u001b[38;5;28mself\u001b[39m._result = result\n\u001b[32m    827\u001b[39m \u001b[38;5;28;01mif\u001b[39;00m result.server_status \u001b[38;5;129;01mis\u001b[39;00m \u001b[38;5;129;01mnot\u001b[39;00m \u001b[38;5;28;01mNone\u001b[39;00m:\n",
      "\u001b[36mFile \u001b[39m\u001b[32me:\\code\\python\\WangXiang\\elec\\Lib\\site-packages\\pymysql\\connections.py:1199\u001b[39m, in \u001b[36mMySQLResult.read\u001b[39m\u001b[34m(self)\u001b[39m\n\u001b[32m   1197\u001b[39m \u001b[38;5;28;01mdef\u001b[39;00m\u001b[38;5;250m \u001b[39m\u001b[34mread\u001b[39m(\u001b[38;5;28mself\u001b[39m):\n\u001b[32m   1198\u001b[39m     \u001b[38;5;28;01mtry\u001b[39;00m:\n\u001b[32m-> \u001b[39m\u001b[32m1199\u001b[39m         first_packet = \u001b[38;5;28;43mself\u001b[39;49m\u001b[43m.\u001b[49m\u001b[43mconnection\u001b[49m\u001b[43m.\u001b[49m\u001b[43m_read_packet\u001b[49m\u001b[43m(\u001b[49m\u001b[43m)\u001b[49m\n\u001b[32m   1201\u001b[39m         \u001b[38;5;28;01mif\u001b[39;00m first_packet.is_ok_packet():\n\u001b[32m   1202\u001b[39m             \u001b[38;5;28mself\u001b[39m._read_ok_packet(first_packet)\n",
      "\u001b[36mFile \u001b[39m\u001b[32me:\\code\\python\\WangXiang\\elec\\Lib\\site-packages\\pymysql\\connections.py:775\u001b[39m, in \u001b[36mConnection._read_packet\u001b[39m\u001b[34m(self, packet_type)\u001b[39m\n\u001b[32m    773\u001b[39m     \u001b[38;5;28;01mif\u001b[39;00m \u001b[38;5;28mself\u001b[39m._result \u001b[38;5;129;01mis\u001b[39;00m \u001b[38;5;129;01mnot\u001b[39;00m \u001b[38;5;28;01mNone\u001b[39;00m \u001b[38;5;129;01mand\u001b[39;00m \u001b[38;5;28mself\u001b[39m._result.unbuffered_active \u001b[38;5;129;01mis\u001b[39;00m \u001b[38;5;28;01mTrue\u001b[39;00m:\n\u001b[32m    774\u001b[39m         \u001b[38;5;28mself\u001b[39m._result.unbuffered_active = \u001b[38;5;28;01mFalse\u001b[39;00m\n\u001b[32m--> \u001b[39m\u001b[32m775\u001b[39m     \u001b[43mpacket\u001b[49m\u001b[43m.\u001b[49m\u001b[43mraise_for_error\u001b[49m\u001b[43m(\u001b[49m\u001b[43m)\u001b[49m\n\u001b[32m    776\u001b[39m \u001b[38;5;28;01mreturn\u001b[39;00m packet\n",
      "\u001b[36mFile \u001b[39m\u001b[32me:\\code\\python\\WangXiang\\elec\\Lib\\site-packages\\pymysql\\protocol.py:219\u001b[39m, in \u001b[36mMysqlPacket.raise_for_error\u001b[39m\u001b[34m(self)\u001b[39m\n\u001b[32m    217\u001b[39m \u001b[38;5;28;01mif\u001b[39;00m DEBUG:\n\u001b[32m    218\u001b[39m     \u001b[38;5;28mprint\u001b[39m(\u001b[33m\"\u001b[39m\u001b[33merrno =\u001b[39m\u001b[33m\"\u001b[39m, errno)\n\u001b[32m--> \u001b[39m\u001b[32m219\u001b[39m \u001b[43merr\u001b[49m\u001b[43m.\u001b[49m\u001b[43mraise_mysql_exception\u001b[49m\u001b[43m(\u001b[49m\u001b[38;5;28;43mself\u001b[39;49m\u001b[43m.\u001b[49m\u001b[43m_data\u001b[49m\u001b[43m)\u001b[49m\n",
      "\u001b[36mFile \u001b[39m\u001b[32me:\\code\\python\\WangXiang\\elec\\Lib\\site-packages\\pymysql\\err.py:150\u001b[39m, in \u001b[36mraise_mysql_exception\u001b[39m\u001b[34m(data)\u001b[39m\n\u001b[32m    148\u001b[39m \u001b[38;5;28;01mif\u001b[39;00m errorclass \u001b[38;5;129;01mis\u001b[39;00m \u001b[38;5;28;01mNone\u001b[39;00m:\n\u001b[32m    149\u001b[39m     errorclass = InternalError \u001b[38;5;28;01mif\u001b[39;00m errno < \u001b[32m1000\u001b[39m \u001b[38;5;28;01melse\u001b[39;00m OperationalError\n\u001b[32m--> \u001b[39m\u001b[32m150\u001b[39m \u001b[38;5;28;01mraise\u001b[39;00m errorclass(errno, errval)\n",
      "\u001b[31mOperationalError\u001b[39m: (1305, 'FUNCTION wj2.DATEADD does not exist')"
     ]
    }
   ],
   "source": [
    "ask_sql('请问中市S487线3个月内停电次数')"
   ]
  },
  {
   "cell_type": "code",
   "execution_count": null,
   "id": "a8f8b78a",
   "metadata": {},
   "outputs": [],
   "source": [
    "query = (\n",
    "    str(\n",
    "        chatllm.invoke(\"\"\"编写一条 SQL 查询语句，仅输出 SQL，不要输出任何解释说明。表结构定义为CREATE TABLE t_event_alarm_inter (\n",
    "                        lineName 线路名称, faultType 停电类型,   occurTime 停电时间,  endTime 恢复时间,\n",
    "      gdsName 供电所单位名称，  unitName供电公司名称。请问龙港一年内停电明细情况 \"\"\")\n",
    "    )\n",
    "    .replace('`', '')\n",
    "    .replace('\\\\n', ' ')\n",
    ")"
   ]
  },
  {
   "cell_type": "code",
   "execution_count": null,
   "id": "e62c3c93",
   "metadata": {},
   "outputs": [],
   "source": [
    "@tool\n",
    "def extract_args(line_name: str, fault_type: str, unit_name: str, occur_time: date, end_time: date) -> str:\n",
    "    \"\"\"线路和时间的停电查询。获取用户提问，填充sql查询语句的select字段和where条件字段。\"\"\"\n",
    "    base_query = 'select * from t_event_alarm_inter where 1=1'\n",
    "    if line_name:\n",
    "        base_query += f\" and lineName LIKE '{line_name}%'\"\n",
    "    if fault_type:\n",
    "        base_query += f\" and faultType LIKE '{fault_type}%'\"\n",
    "    if unit_name:\n",
    "        base_query += f\" and unitName LIKE '{unit_name}%'\"\n",
    "    if occur_time:\n",
    "        base_query += f\" and occurTime>='{occur_time}'\"\n",
    "    if end_time:\n",
    "        base_query += f\" and (endTime<='{end_time}' or endTime is null)\"\n",
    "    return base_query\n",
    "\n",
    "\n",
    "class SqlArgs(BaseModel):\n",
    "    line_name: str = Field(description='停电线路名称')\n",
    "    fault_type: str = Field(description='停电类型')\n",
    "    unit_name: str = Field(description='供电公司名称')\n",
    "    occur_time: date = Field(date(1000, 1, 1), description='停电开始时间')\n",
    "    end_time: date = Field(date(3000, 1, 1), description='停电结束时间')\n",
    "\n",
    "\n",
    "sql_args = StructuredTool.from_function(\n",
    "    func=extract_args,\n",
    "    name='extractor',\n",
    "    description='根据用户提问，提取信息至sql查询参数',\n",
    "    args_schema=SqlArgs,\n",
    "    return_direct=True,\n",
    ")\n",
    "\n",
    "# type: ignore\n",
    "tools = [count_outage, collect_outage_info]\n",
    "chat_with_tools = chatllm.bind_tools(tools)\n",
    "\n",
    "\n",
    "def call_tools(msg: AIMessage) -> list[dict]:\n",
    "    \"\"\"Simple sequential tool calling helper.\"\"\"\n",
    "    tool_map = {tool.name: tool for tool in tools}\n",
    "    tool_calls = msg.tool_calls.copy()\n",
    "    for tool_call in tool_calls:\n",
    "        tool_call['output'] = tool_map[tool_call['name']].invoke(tool_call['args'])\n",
    "    return tool_calls\n",
    "\n",
    "\n",
    "chain = chat_with_tools | call_tools\n"
   ]
  },
  {
   "cell_type": "code",
   "execution_count": 59,
   "id": "b338652b",
   "metadata": {},
   "outputs": [
    {
     "data": {
      "text/plain": [
       "{'name': 'count_outage',\n",
       " 'args': {'line_name': '中市S487线',\n",
       "  'start_time': '2021-06-01',\n",
       "  'end_time': '2022-06-01'},\n",
       " 'id': 'call_26679a5b4e8e401cb1556c',\n",
       " 'type': 'tool_call'}"
      ]
     },
     "execution_count": 59,
     "metadata": {},
     "output_type": "execute_result"
    }
   ],
   "source": [
    "chat_with_tools.invoke('请问中市S487线1年内的停电天数?').tool_calls[0]"
   ]
  },
  {
   "cell_type": "code",
   "execution_count": 60,
   "id": "891dd2e2",
   "metadata": {},
   "outputs": [],
   "source": [
    "def ask_outage(question: str) -> str:\n",
    "    \"\"\"Ask a question to the model and get the answer.\"\"\"\n",
    "    now = datetime.date.today().strftime('%Y-%m-%d')\n",
    "    answer = chat_with_tools.invoke([HumanMessage(content=f'今天日期是{now},{question}')])\n",
    "    result = call_tools(answer)\n",
    "    return result[0]['output']"
   ]
  },
  {
   "cell_type": "code",
   "execution_count": null,
   "id": "74c7af2a",
   "metadata": {},
   "outputs": [
    {
     "name": "stdout",
     "output_type": "stream",
     "text": [
      "content='' additional_kwargs={'tool_calls': [{'function': {'name': 'count_outage_today', 'arguments': '{\"unit_name\": \"龙港\"}'}, 'index': 0, 'id': 'call_83ba090c12c14f1f9d4cb5', 'type': 'function'}]} response_metadata={'model_name': 'qwen-max', 'finish_reason': 'tool_calls', 'request_id': '8d1372c6-6beb-98fe-87b9-c48340dbc924', 'token_usage': {'input_tokens': 319, 'output_tokens': 21, 'total_tokens': 340, 'prompt_tokens_details': {'cached_tokens': 0}}} id='run--be0b5a77-cbb8-4c2b-ac7f-a48d5d1d8fe3-0' tool_calls=[{'name': 'count_outage_today', 'args': {'unit_name': '龙港'}, 'id': 'call_83ba090c12c14f1f9d4cb5', 'type': 'tool_call'}]\n"
     ]
    }
   ],
   "source": [
    "messages = [HumanMessage(content='请问龙港今天停电情况')]\n",
    "ai_mes = chat_with_tools.invoke(messages)\n",
    "print(ai_mes)\n",
    "messages.append(ai_mes)\n"
   ]
  },
  {
   "cell_type": "code",
   "execution_count": 78,
   "id": "c0044674",
   "metadata": {},
   "outputs": [
    {
     "data": {
      "text/plain": [
       "[{'name': 'count_outage_today',\n",
       "  'args': {'unit_name': '龙港'},\n",
       "  'id': 'call_d590d0b6f7e840e5875b38',\n",
       "  'type': 'tool_call',\n",
       "  'output': '龙港今天的停电次数为：3'}]"
      ]
     },
     "execution_count": 78,
     "metadata": {},
     "output_type": "execute_result"
    }
   ],
   "source": [
    "chain.invoke([HumanMessage(content='请问龙港今天停电情况')])"
   ]
  },
  {
   "cell_type": "code",
   "execution_count": 61,
   "id": "b232b766",
   "metadata": {},
   "outputs": [
    {
     "data": {
      "text/plain": [
       "'龙港在2025-05-09到2025-05-09间的停电次数为：5'"
      ]
     },
     "execution_count": 61,
     "metadata": {},
     "output_type": "execute_result"
    }
   ],
   "source": [
    "ask_outage('请问龙港当日停电情况')"
   ]
  }
 ],
 "metadata": {
  "kernelspec": {
   "display_name": "elec",
   "language": "python",
   "name": "python3"
  },
  "language_info": {
   "codemirror_mode": {
    "name": "ipython",
    "version": 3
   },
   "file_extension": ".py",
   "mimetype": "text/x-python",
   "name": "python",
   "nbconvert_exporter": "python",
   "pygments_lexer": "ipython3",
   "version": "3.12.3"
  }
 },
 "nbformat": 4,
 "nbformat_minor": 5
}
