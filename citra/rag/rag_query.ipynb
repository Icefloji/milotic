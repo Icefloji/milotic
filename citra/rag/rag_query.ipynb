{
 "cells": [
  {
   "cell_type": "code",
   "execution_count": null,
   "metadata": {},
   "outputs": [],
   "source": [
    "from langchain.text_splitter import RecursiveCharacterTextSplitter\n",
    "from langchain_chroma import Chroma\n",
    "from langchain_community.document_loaders import TextLoader\n",
    "from langchain_community.embeddings import DashScopeEmbeddings\n",
    "from langchain_community.llms import Tongyi\n",
    "from langchain_core.output_parsers import StrOutputParser\n",
    "from langchain_core.prompts import PromptTemplate"
   ]
  },
  {
   "cell_type": "code",
   "execution_count": 11,
   "metadata": {},
   "outputs": [],
   "source": [
    "model = Tongyi(model='qwen-plus')  # type: ignore"
   ]
  },
  {
   "cell_type": "code",
   "execution_count": 12,
   "metadata": {},
   "outputs": [],
   "source": [
    "# 自定义的文本拆分器\n",
    "text_splitter = RecursiveCharacterTextSplitter(chunk_size=100, chunk_overlap=30, separators=['第'])\n",
    "loader = TextLoader('../../data/rag/extracted_text.txt', encoding='utf-8')\n",
    "\n",
    "docs = loader.load_and_split(text_splitter=text_splitter)"
   ]
  },
  {
   "cell_type": "code",
   "execution_count": 4,
   "metadata": {},
   "outputs": [],
   "source": [
    "vectorstore = Chroma.from_documents(documents=docs, embedding=DashScopeEmbeddings(model='text-embedding-v3'))\n"
   ]
  },
  {
   "cell_type": "code",
   "execution_count": 5,
   "metadata": {},
   "outputs": [],
   "source": [
    "retriever = vectorstore.as_retriever(search_type='similarity', search_kwargs={'k': 10})\n"
   ]
  },
  {
   "cell_type": "code",
   "execution_count": 6,
   "metadata": {},
   "outputs": [],
   "source": [
    "template = '你是供电局的客服，请根据知识库，回答用户的问题，并列出引用自第几条 和第几点。问题：{question}。知识库：{docs}。不要输出答案如下之类的前言。'\n",
    "prompt = PromptTemplate(template=template, input_variables=['question', 'docs'])\n",
    "rag_chain = prompt | model | StrOutputParser()"
   ]
  },
  {
   "cell_type": "code",
   "execution_count": 7,
   "metadata": {},
   "outputs": [],
   "source": [
    "def format_docs(docs):\n",
    "    return '\\n\\n'.join(doc.page_content for doc in docs)\n",
    "\n",
    "\n",
    "def ask_rag(question):\n",
    "    formatted_docs = (retriever | format_docs).invoke(question)\n",
    "    result = rag_chain.invoke({'question': question, 'docs': formatted_docs})\n",
    "    return result"
   ]
  },
  {
   "cell_type": "code",
   "execution_count": 8,
   "metadata": {},
   "outputs": [],
   "source": [
    "# ask_rag('用户集资建设的供电站，建成运营前，由谁管理')"
   ]
  },
  {
   "cell_type": "code",
   "execution_count": null,
   "metadata": {},
   "outputs": [],
   "source": [
    "from queue import Empty, Queue\n",
    "from threading import Thread\n",
    "\n",
    "from langchain.callbacks.base import BaseCallbackHandler\n",
    "from langchain.prompts import PromptTemplate\n",
    "\n",
    "\n",
    "class QueueCallbackHandler(BaseCallbackHandler):\n",
    "    def __init__(self):\n",
    "        self.q = Queue()\n",
    "        self.done = False\n",
    "\n",
    "    def on_llm_new_token(self, token: str, **kwargs):\n",
    "        self.q.put(token)\n",
    "\n",
    "    def get_generator(self):\n",
    "        while not self.done or not self.q.empty():\n",
    "            try:\n",
    "                token = self.q.get(timeout=0.1)\n",
    "                yield token\n",
    "            except Empty:\n",
    "                continue\n",
    "\n",
    "    def finish(self):\n",
    "        self.done = True\n",
    "\n",
    "\n",
    "def stream_chain(prompt_text: str):\n",
    "    handler = QueueCallbackHandler()\n",
    "    formatted_docs = (retriever | format_docs).invoke(prompt_text)\n",
    "\n",
    "    # 用线程非阻塞执行 chain.invoke（因为 streaming 是回调）\n",
    "    def run_chain():\n",
    "        rag_chain.stream({'question': prompt_text, 'docs': formatted_docs})\n",
    "        handler.finish()\n",
    "\n",
    "    Thread(target=run_chain).start()\n",
    "\n",
    "    return handler.get_generator()"
   ]
  },
  {
   "cell_type": "code",
   "execution_count": 13,
   "metadata": {},
   "outputs": [
    {
     "data": {
      "text/plain": [
       "<generator object QueueCallbackHandler.get_generator at 0x000001E85DE7FC60>"
      ]
     },
     "execution_count": 13,
     "metadata": {},
     "output_type": "execute_result"
    }
   ],
   "source": [
    "stream_chain('用户集资建设的供电站，建成运营前，由谁管理')"
   ]
  }
 ],
 "metadata": {
  "kernelspec": {
   "display_name": "elec",
   "language": "python",
   "name": "python3"
  },
  "language_info": {
   "codemirror_mode": {
    "name": "ipython",
    "version": 3
   },
   "file_extension": ".py",
   "mimetype": "text/x-python",
   "name": "python",
   "nbconvert_exporter": "python",
   "pygments_lexer": "ipython3",
   "version": "3.12.3"
  }
 },
 "nbformat": 4,
 "nbformat_minor": 2
}
