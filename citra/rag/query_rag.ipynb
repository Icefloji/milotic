{
 "cells": [
  {
   "cell_type": "code",
   "execution_count": 2,
   "metadata": {},
   "outputs": [],
   "source": [
    "import os\n",
    "\n",
    "os.environ['LANGSMITH_TRACING_V2'] = 'true'"
   ]
  },
  {
   "cell_type": "code",
   "execution_count": 3,
   "metadata": {},
   "outputs": [],
   "source": [
    "from langchain.text_splitter import RecursiveCharacterTextSplitter\n",
    "from langchain_chroma import Chroma\n",
    "from langchain_community.chat_models import ChatTongyi  # noqa: F401\n",
    "from langchain_community.document_loaders import TextLoader\n",
    "from langchain_core.output_parsers import StrOutputParser\n",
    "from langchain_core.prompts import ChatPromptTemplate, FewShotChatMessagePromptTemplate\n",
    "from langchain_core.runnables import RunnableParallel, RunnablePassthrough\n",
    "from langchain_ollama import OllamaEmbeddings"
   ]
  },
  {
   "cell_type": "code",
   "execution_count": 4,
   "metadata": {},
   "outputs": [],
   "source": [
    "# 自定义的文本拆分器\n",
    "\n",
    "\n",
    "text_splitter = RecursiveCharacterTextSplitter(chunk_size=200, chunk_overlap=20, separators=['第'])\n",
    "\n",
    "loader = TextLoader('data/rag/供电规则.txt', encoding='utf-8')\n",
    "docs = loader.load_and_split(text_splitter=text_splitter)\n",
    "# vectorstore = Chroma.from_documents(documents=docs, embedding=OllamaEmbeddings(model='bge-m3:latest'), persist_directory='data/rag/knowledge_base')\n",
    "vectorstore = Chroma(persist_directory='data/rag/knowledge_base', embedding_function=OllamaEmbeddings(model='bge-m3:latest'))\n",
    "retriever = vectorstore.as_retriever(search_type='similarity', search_kwargs={'k': 3})"
   ]
  },
  {
   "cell_type": "code",
   "execution_count": 5,
   "metadata": {},
   "outputs": [],
   "source": [
    "examples = [\n",
    "    {\n",
    "        'question': '用户单相用电设备总容量 12 千瓦以下时，可以采用多少供电？',\n",
    "        'doc': '《供电营业规则》',\n",
    "        'articles': '第九条',\n",
    "        'answer': '当用户单相用电设备总容量为12千瓦以下时，可以采用低压220伏的供电方式',\n",
    "        'link': '127.0.0.1:8000/knowbase/1.pdf',\n",
    "    },\n",
    "    {\n",
    "        'question': '申请非永久性减容的，时长是多久？',\n",
    "        'doc': '《供电营业规则》',\n",
    "        'articles': '第二十五条',\n",
    "        'answer': '申请非永久性减容的，减容次数不受限制，每次减容时长不得少于十五日，最长不得超过两年',\n",
    "        'link': '127.0.0.1:8000/knowbase/2.pdf',\n",
    "    },\n",
    "    {\n",
    "        'question': '用户集资建设的供电站，建成运营前，由谁管理？',\n",
    "        'doc': '《供电营业规则》',\n",
    "        'articles': '第四十九条',\n",
    "        'answer': '用户集资建设的供电设施建成后，其运行维护管理按照以下规定确定：（一）属于公用性质或占用公用线路规划走廊的，由供电企业统一管理',\n",
    "        'link': '127.0.0.1:8000/knowbase/3.pdf',\n",
    "    },\n",
    "]\n",
    "example_prompt = ChatPromptTemplate(\n",
    "    [\n",
    "        ('human', '{question}'),\n",
    "        ('ai', '根据{doc}，{articles}。{answer}。[链接]({link})'),\n",
    "    ]\n",
    ")\n",
    "\n",
    "few_shot_promppt = FewShotChatMessagePromptTemplate(\n",
    "    example_prompt=example_prompt,\n",
    "    examples=examples,\n",
    ")\n",
    "\n",
    "final_prompt = ChatPromptTemplate(\n",
    "    [\n",
    "        ('system', '你是供电局客服，根据知识库，模仿以下对话案例回答用户的问题。'),\n",
    "        few_shot_promppt,\n",
    "        ('human', '{question}'),\n",
    "        ('ai', '这是知识库。{docs}'),\n",
    "    ]\n",
    ")\n"
   ]
  },
  {
   "cell_type": "code",
   "execution_count": null,
   "metadata": {},
   "outputs": [],
   "source": []
  },
  {
   "cell_type": "code",
   "execution_count": null,
   "metadata": {},
   "outputs": [],
   "source": [
    "from pathlib import Path\n",
    "\n",
    "service_ip = '127.0.0.1:8000/'\n",
    "\n",
    "\n",
    "def format_docs(docs):\n",
    "    import json\n",
    "\n",
    "    doc_res = []\n",
    "    for doc in docs:\n",
    "        d = {}\n",
    "        d['name'] = Path(doc.metadata['source']).stem\n",
    "        d['link'] = service_ip + str(Path('/knowledge_base', Path(doc.metadata['source']).stem).with_suffix('.pdf').as_posix())\n",
    "        print(d['link'])\n",
    "        d['content'] = doc.page_content\n",
    "        doc_res.append(json.dumps(d, ensure_ascii=False))\n",
    "    return '\\n\\n'.join(doc_res)\n",
    "\n",
    "\n",
    "model = ChatTongyi(model='qwen-max')\n",
    "# model2 = ChatOllama(model='qwen2.5:3b')\n",
    "rag_chain = RunnableParallel(question=RunnablePassthrough(), docs=retriever | format_docs) | final_prompt | model | StrOutputParser()"
   ]
  },
  {
   "cell_type": "code",
   "execution_count": null,
   "metadata": {},
   "outputs": [
    {
     "data": {
      "text/plain": [
       "WindowsPath('rag/21')"
      ]
     },
     "execution_count": 7,
     "metadata": {},
     "output_type": "execute_result"
    }
   ],
   "source": [
    "Path('rag', '21')"
   ]
  },
  {
   "cell_type": "code",
   "execution_count": 8,
   "metadata": {},
   "outputs": [],
   "source": [
    "def query_knowledge_base(ip, question):\n",
    "    global service_ip\n",
    "    service_ip = ip\n",
    "    for i in rag_chain.stream(question):\n",
    "        yield {'type': 'table', 'content': i}"
   ]
  },
  {
   "cell_type": "code",
   "execution_count": 9,
   "metadata": {},
   "outputs": [
    {
     "name": "stdout",
     "output_type": "stream",
     "text": [
      "{'type': 'table', 'content': '根据'}\n",
      "{'type': 'table', 'content': '《供电规则》'}\n",
      "{'type': 'table', 'content': '第六十五条，发生'}\n",
      "{'type': 'table', 'content': '以下事故时需要'}\n",
      "{'type': 'table', 'content': '告知供电企业：\\n\\n-'}\n",
      "{'type': 'table', 'content': ' 人身触电死亡；\\n'}\n",
      "{'type': 'table', 'content': '- 导致电力系统'}\n",
      "{'type': 'table', 'content': '停电；\\n- 专线掉'}\n",
      "{'type': 'table', 'content': '闸或全厂停电；\\n'}\n",
      "{'type': 'table', 'content': '- 电气火灾；\\n-'}\n",
      "{'type': 'table', 'content': ' 重要或大型电气设备'}\n",
      "{'type': 'table', 'content': '损坏；\\n- 停'}\n",
      "{'type': 'table', 'content': '电期间向电力系统倒'}\n",
      "{'type': 'table', 'content': '送电。\\n\\n如果'}\n",
      "{'type': 'table', 'content': '遇到以上情况，请'}\n",
      "{'type': 'table', 'content': '及时与我们联系。['}\n",
      "{'type': 'table', 'content': '链接](127.'}\n",
      "{'type': 'table', 'content': '0.0.1:'}\n",
      "{'type': 'table', 'content': '8000/knowledge'}\n",
      "{'type': 'table', 'content': '_base/供电规则.pdf)'}\n",
      "{'type': 'table', 'content': ''}\n"
     ]
    }
   ],
   "source": [
    "for i in query_knowledge_base('127.0.0.1:8000', '发生什么事故，需要告知供电企业？'):\n",
    "    print(i)"
   ]
  }
 ],
 "metadata": {
  "kernelspec": {
   "display_name": ".venv",
   "language": "python",
   "name": "python3"
  },
  "language_info": {
   "codemirror_mode": {
    "name": "ipython",
    "version": 3
   },
   "file_extension": ".py",
   "mimetype": "text/x-python",
   "name": "python",
   "nbconvert_exporter": "python",
   "pygments_lexer": "ipython3",
   "version": "3.12.3"
  }
 },
 "nbformat": 4,
 "nbformat_minor": 2
}
