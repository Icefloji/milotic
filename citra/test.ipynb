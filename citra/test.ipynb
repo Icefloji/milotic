{
 "cells": [
  {
   "cell_type": "code",
   "execution_count": null,
   "id": "88505fc0",
   "metadata": {},
   "outputs": [
    {
     "data": {
      "text/plain": [
       "AIMessage(content='The capital of France is Paris.', additional_kwargs={}, response_metadata={'model': 'qwen2.5:3b', 'created_at': '2025-05-26T02:25:44.4032647Z', 'done': True, 'done_reason': 'stop', 'total_duration': 1973918000, 'load_duration': 1357922200, 'prompt_eval_count': 27, 'prompt_eval_duration': 338641000, 'eval_count': 8, 'eval_duration': 272778900, 'model_name': 'qwen2.5:3b'}, id='run--9b709bcd-5282-4af4-966f-4e8238be291b-0', usage_metadata={'input_tokens': 27, 'output_tokens': 8, 'total_tokens': 35})"
      ]
     },
     "execution_count": 1,
     "metadata": {},
     "output_type": "execute_result"
    }
   ],
   "source": [
    "from langchain_core.prompts import ChatPromptTemplate\n",
    "from langchain_ollama.chat_models import ChatOllama\n",
    "from langchain_ollama.embeddings import OllamaEmbeddings\n",
    "\n",
    "from langchain_chroma import Chroma\n",
    "from langchain_core.example_selectors import SemanticSimilarityExampleSelector\n",
    "from langchain_core.prompts import FewShotPromptTemplate, PromptTemplate\n"
   ]
  },
  {
   "cell_type": "code",
   "execution_count": null,
   "id": "2f291c66",
   "metadata": {},
   "outputs": [],
   "source": [
    "prompt = ChatPromptTemplate(\n",
    "    [\n",
    "        ('system', 'You are a helpful chatbot.'),\n",
    "        ('user', '{question}'),\n",
    "    ]\n",
    ")\n",
    "\n",
    "\n",
    "model = ChatOllama(model='qwen2.5:3b')\n",
    "chain = prompt | model\n",
    "chain.invoke({'question': 'What is the capital of France?'})"
   ]
  },
  {
   "cell_type": "code",
   "execution_count": null,
   "id": "8675660b",
   "metadata": {},
   "outputs": [],
   "source": [
    "examples = [\n",
    "    {'fruit': 'apple', 'person': 'me', 'id': '1'},\n",
    "    {'fruit': 'banana', 'person': 'you', 'id': '10'},\n",
    "    {'fruit': 'cherry', 'person': 'him', 'id': '20'},\n",
    "]\n",
    "\n",
    "selecotr = SemanticSimilarityExampleSelector.from_examples(examples, OllamaEmbeddings(model='bge-m3:latest'), Chroma, k=2)\n",
    "# selector.select_examples({'id':24})\n",
    "example_prompt = PromptTemplate.from_template('{person} like {fruit}.')\n",
    "few_prompt = FewShotPromptTemplate(example_selector=selecotr, example_prompt=example_prompt, suffix='input : {id}', input_variables=['id'])"
   ]
  },
  {
   "cell_type": "code",
   "execution_count": 225,
   "id": "1aa6132b",
   "metadata": {},
   "outputs": [
    {
     "data": {
      "text/plain": [
       "True"
      ]
     },
     "execution_count": 225,
     "metadata": {},
     "output_type": "execute_result"
    }
   ],
   "source": [
    "a = {1: 2, 2: 3}\n",
    "1 in a"
   ]
  },
  {
   "cell_type": "code",
   "execution_count": null,
   "id": "8bafcd70",
   "metadata": {},
   "outputs": [],
   "source": [
    "from langchain_ollama.chat_models import ChatOllama\n",
    "\n",
    "model = ChatOllama(model='qwen2.5:3b')"
   ]
  },
  {
   "cell_type": "code",
   "execution_count": null,
   "id": "2d19faba",
   "metadata": {},
   "outputs": [
    {
     "name": "stdout",
     "output_type": "stream",
     "text": [
      "France|Spain|Japan|"
     ]
    }
   ],
   "source": [
    "async def func(url):\n",
    "    await requests.get(url)"
   ]
  },
  {
   "cell_type": "code",
   "execution_count": null,
   "id": "51bbd054",
   "metadata": {},
   "outputs": [
    {
     "name": "stdout",
     "output_type": "stream",
     "text": [
      "2 4\n",
      "{'c': 1, 'd': 2}\n"
     ]
    }
   ],
   "source": [
    "from langchain_core."
   ]
  }
 ],
 "metadata": {
  "kernelspec": {
   "display_name": ".venv",
   "language": "python",
   "name": "python3"
  },
  "language_info": {
   "codemirror_mode": {
    "name": "ipython",
    "version": 3
   },
   "file_extension": ".py",
   "mimetype": "text/x-python",
   "name": "python",
   "nbconvert_exporter": "python",
   "pygments_lexer": "ipython3",
   "version": "3.12.3"
  }
 },
 "nbformat": 4,
 "nbformat_minor": 5
}
