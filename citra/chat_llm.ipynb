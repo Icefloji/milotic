{
 "cells": [
  {
   "cell_type": "code",
   "execution_count": null,
   "metadata": {},
   "outputs": [],
   "source": [
    "from langchain_core.chat_history import InMemoryChatMessageHistory\n",
    "from langchain_core.messages import AIMessage, HumanMessage, SystemMessage\n",
    "from langchain_core.prompts import ChatPromptTemplate\n",
    "from langchain_core.runnables.history import RunnableWithMessageHistory\n",
    "from langchain_ollama import ChatOllama"
   ]
  },
  {
   "cell_type": "code",
   "execution_count": 2,
   "metadata": {},
   "outputs": [
    {
     "data": {
      "text/plain": [
       "AIMessage(content=\"'Hello, how are you?' se traduit en français par 'Bonjour, et vous allez bien ?'\", additional_kwargs={}, response_metadata={'model': 'qwen2.5:3b', 'created_at': '2025-05-30T07:43:58.4433746Z', 'done': True, 'done_reason': 'stop', 'total_duration': 2284623000, 'load_duration': 1044088400, 'prompt_eval_count': 35, 'prompt_eval_duration': 363600700, 'eval_count': 24, 'eval_duration': 874043300, 'model_name': 'qwen2.5:3b'}, id='run--654f6526-0798-43cf-976b-3049af2aacb4-0', usage_metadata={'input_tokens': 35, 'output_tokens': 24, 'total_tokens': 59})"
      ]
     },
     "execution_count": 2,
     "metadata": {},
     "output_type": "execute_result"
    }
   ],
   "source": [
    "prompt = ChatPromptTemplate.from_messages(\n",
    "    [SystemMessage(content='You are a helpful assistant that translates English to French.'), ('human', '{input}')]\n",
    ")\n",
    "model = ChatOllama(model='qwen2.5:3b', temperature=0.7)\n",
    "chain = prompt | model\n",
    "chain.invoke({'input': \"Translate 'Hello, how are you?' to French.\"})"
   ]
  },
  {
   "cell_type": "code",
   "execution_count": null,
   "metadata": {},
   "outputs": [],
   "source": [
    "store = {}\n",
    "\n",
    "\n",
    "def get_session_history(session_id: str):\n",
    "    if session_id not in store:\n",
    "        store[session_id] = InMemoryChatMessageHistory()\n",
    "    return store[session_id]\n",
    "\n",
    "\n",
    "with_message_history = RunnableWithMessageHistory(model, get_session_history)\n",
    "\n",
    "config = {'configurable': {'session_id': 'abc2'}}\n",
    "\n",
    "\n",
    "config = {'configurable': {'session_id': 'abc2'}}\n",
    "response = with_message_history.invoke('who am i', config=config)\n"
   ]
  },
  {
   "cell_type": "code",
   "execution_count": 52,
   "metadata": {},
   "outputs": [],
   "source": [
    "from langchain_core.prompts import MessagesPlaceholder\n",
    "\n",
    "f = MessagesPlaceholder(variable_name='messages')"
   ]
  },
  {
   "cell_type": "code",
   "execution_count": null,
   "metadata": {},
   "outputs": [],
   "source": [
    "from langchain_core.tools import tool\n",
    "\n",
    "\n",
    "@tool\n",
    "def add(a: int, b: int) -> int:\n",
    "    \"\"\"add two numbers\"\"\"\n",
    "    return a + b\n",
    "\n",
    "\n",
    "tools = [add]\n",
    "llm_with_tool = model.bind_tools(tools=tools)"
   ]
  },
  {
   "cell_type": "code",
   "execution_count": 5,
   "metadata": {},
   "outputs": [
    {
     "name": "stdout",
     "output_type": "stream",
     "text": [
      "content='' additional_kwargs={} response_metadata={'model': 'qwen2.5:3b', 'created_at': '2025-05-30T07:45:12.8437103Z', 'done': True, 'done_reason': 'stop', 'total_duration': 989427400, 'load_duration': 21213100, 'prompt_eval_count': 167, 'prompt_eval_duration': 39753700, 'eval_count': 25, 'eval_duration': 923720400, 'model_name': 'qwen2.5:3b'} id='run--7f09eef7-2a52-41e6-8883-5be48add860f-0' tool_calls=[{'name': 'add', 'args': {'a': 1, 'b': 1}, 'id': '6f5b6d73-7dec-4c4c-aa17-2dcf8fe06699', 'type': 'tool_call'}] usage_metadata={'input_tokens': 167, 'output_tokens': 25, 'total_tokens': 192}\n"
     ]
    }
   ],
   "source": [
    "messages = []\n",
    "question = HumanMessage(content='What is 1+1?')\n",
    "messages.append(question)\n",
    "response = llm_with_tool.invoke(messages)\n",
    "print(response)"
   ]
  },
  {
   "cell_type": "code",
   "execution_count": null,
   "metadata": {},
   "outputs": [],
   "source": [
    "def call_tools(msg: AIMessage) -> list[dict]:\n",
    "    \"\"\"Simple sequential tool calling helper.\"\"\"\n",
    "    tool_map = {tool.name: tool for tool in [add]}\n",
    "    tool_calls = msg.tool_calls.copy()\n",
    "    for tool_call in tool_calls:\n",
    "        tool_msg = tool_map[tool_call['name']].invoke(tool_call)\n",
    "        messages.append(tool_msg)\n",
    "    return tool_msg['content']\n"
   ]
  },
  {
   "cell_type": "code",
   "execution_count": 6,
   "metadata": {},
   "outputs": [],
   "source": [
    "from langgraph.prebuilt import create_react_agent\n",
    "\n",
    "agent_executor = create_react_agent(model, tools)\n"
   ]
  },
  {
   "cell_type": "code",
   "execution_count": 7,
   "metadata": {},
   "outputs": [
    {
     "data": {
      "text/plain": [
       "[HumanMessage(content='1+1=?', additional_kwargs={}, response_metadata={}, id='5be60e37-826e-4064-a1f3-0ebf4dd37550'),\n",
       " AIMessage(content='', additional_kwargs={}, response_metadata={'model': 'qwen2.5:3b', 'created_at': '2025-05-30T07:45:20.3160289Z', 'done': True, 'done_reason': 'stop', 'total_duration': 1065912900, 'load_duration': 22251200, 'prompt_eval_count': 164, 'prompt_eval_duration': 111129900, 'eval_count': 25, 'eval_duration': 927029300, 'model_name': 'qwen2.5:3b'}, id='run--f9f2eaf6-7898-4e57-a482-85cefe427411-0', tool_calls=[{'name': 'add', 'args': {'a': 1, 'b': 1}, 'id': 'd6ee72f9-0a98-44d2-89b0-693fbe1de14c', 'type': 'tool_call'}], usage_metadata={'input_tokens': 164, 'output_tokens': 25, 'total_tokens': 189}),\n",
       " ToolMessage(content='2', name='add', id='af514a2f-1612-4863-a25a-fda79ff334a0', tool_call_id='d6ee72f9-0a98-44d2-89b0-693fbe1de14c'),\n",
       " AIMessage(content='The result of adding 1 and 1 is 2.', additional_kwargs={}, response_metadata={'model': 'qwen2.5:3b', 'created_at': '2025-05-30T07:45:21.1977144Z', 'done': True, 'done_reason': 'stop', 'total_duration': 870180900, 'load_duration': 20327500, 'prompt_eval_count': 205, 'prompt_eval_duration': 320151700, 'eval_count': 14, 'eval_duration': 521680300, 'model_name': 'qwen2.5:3b'}, id='run--1002fb6a-ccee-493d-91e1-9b2b67daff91-0', usage_metadata={'input_tokens': 205, 'output_tokens': 14, 'total_tokens': 219})]"
      ]
     },
     "execution_count": 7,
     "metadata": {},
     "output_type": "execute_result"
    }
   ],
   "source": [
    "response = agent_executor.invoke({'messages': '1+1=?'})\n",
    "\n",
    "response['messages']"
   ]
  },
  {
   "cell_type": "code",
   "execution_count": null,
   "metadata": {},
   "outputs": [],
   "source": [
    "from sqlalchemy import create_engine\n",
    "\n",
    "# 替换为你的数据库配置\n",
    "MYSQL_HOST = '192.168.31.175'\n",
    "MYSQL_PORT = 3306\n",
    "MYSQL_USER = 'jhyl**hr'\n",
    "MYSQL_PASSWORD = 'JHyl*#369'\n",
    "MYSQL_DATABASE = 'wj2'\n",
    "\n",
    "url = f'mysql+pymysql://{MYSQL_USER}:{MYSQL_PASSWORD}@{MYSQL_HOST}:{MYSQL_PORT}/{MYSQL_DATABASE}'\n",
    "engine = create_engine(url)\n",
    "\n",
    "# 测试连接\n",
    "from langchain_community.utilities import SQLDatabase\n",
    "\n",
    "db = SQLDatabase.from_uri(url)\n",
    "print(db.get_usable_table_names())\n"
   ]
  }
 ],
 "metadata": {
  "kernelspec": {
   "display_name": ".venv",
   "language": "python",
   "name": "python3"
  },
  "language_info": {
   "codemirror_mode": {
    "name": "ipython",
    "version": 3
   },
   "file_extension": ".py",
   "mimetype": "text/x-python",
   "name": "python",
   "nbconvert_exporter": "python",
   "pygments_lexer": "ipython3",
   "version": "3.12.3"
  }
 },
 "nbformat": 4,
 "nbformat_minor": 2
}
