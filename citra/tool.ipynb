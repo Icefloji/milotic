{
 "cells": [
  {
   "cell_type": "code",
   "execution_count": null,
   "id": "591c82f2",
   "metadata": {},
   "outputs": [],
   "source": [
    "from langchain_community.chat_models import ChatTongyi\n",
    "from langchain_core.messages import HumanMessage\n",
    "from langchain_core.tools import tool\n",
    "\n",
    "chatllm = ChatTongyi(model='qwen-max', temperature=0)\n"
   ]
  },
  {
   "cell_type": "code",
   "execution_count": null,
   "id": "c479b017",
   "metadata": {},
   "outputs": [],
   "source": [
    "@tool\n",
    "def complex_tool(int_arg: int, float_arg: float, dict_arg: dict) -> int:\n",
    "    \"\"\"Do something complex with a complex tool.\"\"\"\n",
    "    return int_arg * float_arg\n",
    "\n",
    "\n",
    "llm_with_tools = chatllm.bind_tools(\n",
    "    [complex_tool],\n",
    ")\n",
    "\n",
    "# Define chain\n",
    "chain = llm_with_tools | (lambda msg: msg.tool_calls[0]['args']) | complex_tool"
   ]
  },
  {
   "cell_type": "code",
   "execution_count": null,
   "id": "ccf96f93",
   "metadata": {},
   "outputs": [],
   "source": [
    "message = [HumanMessage(content=\"use complex tool. the args are 5, 1.1, empty dictionary. don't forget dict_arg\")]"
   ]
  },
  {
   "cell_type": "code",
   "execution_count": null,
   "id": "d293b69f",
   "metadata": {},
   "outputs": [],
   "source": [
    "msg = llm_with_tools.invoke(message)"
   ]
  },
  {
   "cell_type": "code",
   "execution_count": 45,
   "id": "89e96608",
   "metadata": {},
   "outputs": [
    {
     "data": {
      "text/plain": [
       "{'int_arg': 5, 'float_arg': 1.1, 'dict_arg': {}}"
      ]
     },
     "execution_count": 45,
     "metadata": {},
     "output_type": "execute_result"
    }
   ],
   "source": [
    "msg.tool_calls[0]['args']"
   ]
  },
  {
   "cell_type": "code",
   "execution_count": 46,
   "id": "3c64759f",
   "metadata": {},
   "outputs": [
    {
     "data": {
      "text/plain": [
       "5.5"
      ]
     },
     "execution_count": 46,
     "metadata": {},
     "output_type": "execute_result"
    }
   ],
   "source": [
    "complex_tool(msg.tool_calls[0]['args'])\n"
   ]
  },
  {
   "cell_type": "code",
   "execution_count": null,
   "id": "ee0b0d7f",
   "metadata": {},
   "outputs": [
    {
     "data": {
      "text/plain": [
       "15.707963267948966"
      ]
     },
     "execution_count": 18,
     "metadata": {},
     "output_type": "execute_result"
    }
   ],
   "source": [
    "chain.invoke(\"use complex tool. the args are 5.3, 1.1, empty dictionary. don't forget dict_arg\")"
   ]
  },
  {
   "cell_type": "code",
   "execution_count": null,
   "id": "0c1f3201",
   "metadata": {},
   "outputs": [],
   "source": [
    "@tool\n",
    "def add(a: int, b: int) -> int:\n",
    "    \"\"\"Adds a and b.\"\"\"\n",
    "    return a + b\n",
    "\n",
    "\n",
    "@tool\n",
    "def multiply(a: int, b: int) -> int:\n",
    "    \"\"\"Multiplies a and b.\"\"\"\n",
    "    return a * b\n",
    "\n",
    "\n",
    "tools2 = [multiply, add]"
   ]
  },
  {
   "cell_type": "code",
   "execution_count": null,
   "id": "6b9b905c",
   "metadata": {},
   "outputs": [
    {
     "data": {
      "text/plain": [
       "[{'name': 'add',\n",
       "  'args': {'a': 2, 'b': 3},\n",
       "  'id': 'call_11dd718095a043eaa05c12',\n",
       "  'type': 'tool_call'}]"
      ]
     },
     "execution_count": 85,
     "metadata": {},
     "output_type": "execute_result"
    }
   ],
   "source": [
    "llm_with_tools = chatllm.bind_tools(tools2, tool_choice='auto')\n",
    "llm_with_tools.invoke('调用第一个工具两次').tool_calls"
   ]
  }
 ],
 "metadata": {
  "kernelspec": {
   "display_name": "elec",
   "language": "python",
   "name": "python3"
  },
  "language_info": {
   "codemirror_mode": {
    "name": "ipython",
    "version": 3
   },
   "file_extension": ".py",
   "mimetype": "text/x-python",
   "name": "python",
   "nbconvert_exporter": "python",
   "pygments_lexer": "ipython3",
   "version": "3.12.3"
  }
 },
 "nbformat": 4,
 "nbformat_minor": 5
}
