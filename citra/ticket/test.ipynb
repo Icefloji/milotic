{
 "cells": [
  {
   "cell_type": "code",
   "execution_count": 1,
   "id": "10768c2c",
   "metadata": {},
   "outputs": [],
   "source": [
    "import json\n",
    "from pathlib import Path\n",
    "\n",
    "tk = json.load(Path('E:/code/python/WangXiang/data/ticket/breakfix', 'ticket.json').open('r', encoding='utf-8'))\n"
   ]
  },
  {
   "cell_type": "code",
   "execution_count": null,
   "id": "57152e58",
   "metadata": {},
   "outputs": [
    {
     "name": "stdout",
     "output_type": "stream",
     "text": [
      "台州-玉环-楚门供电所-楚门供电服务二班-2025-04-PQ-001[数]\n"
     ]
    }
   ],
   "source": [
    "ticket_id = ''\n",
    "\n",
    "\n",
    "def find_key_value(data, target_key):\n",
    "    \"\"\"\n",
    "    递归查找字典或列表中是否存在指定键，并返回对应的值。\n",
    "    \"\"\"\n",
    "    if isinstance(data, dict):\n",
    "        if target_key in data:\n",
    "            return data[target_key]  # ✅ 找到目标键，返回对应值\n",
    "        for v in data.values():\n",
    "            result = find_key_value(v, target_key)\n",
    "            if result is not None:\n",
    "                return result\n",
    "    elif isinstance(data, list):\n",
    "        for item in data:\n",
    "            result = find_key_value(item, target_key)\n",
    "            if result is not None:\n",
    "                return result\n",
    "    return None  # ❌ 没找到\n",
    "\n",
    "\n",
    "print(find_key_value(tk, 'workTicketCode'))\n"
   ]
  },
  {
   "cell_type": "code",
   "execution_count": null,
   "id": "d1272f57",
   "metadata": {},
   "outputs": [],
   "source": [
    "def find_paths(data, target):\n",
    "    \"\"\"\n",
    "    在嵌套的字典和列表中查找包含特定字符串的值，并返回其路径\n",
    "    \"\"\"\n",
    "    paths = []\n",
    "\n",
    "    def recursive_search(obj, path='tk'):\n",
    "        if isinstance(obj, dict):\n",
    "            for k, v in obj.items():\n",
    "                new_path = f'{path}[\"{k}\"]'\n",
    "                if str(v).startswith(target):\n",
    "                    print(v)\n",
    "                    paths.append(new_path)\n",
    "                else:\n",
    "                    recursive_search(v, new_path)\n",
    "        elif isinstance(obj, list):\n",
    "            for idx, item in enumerate(obj):\n",
    "                new_path = f'{path}[{idx}]'\n",
    "                recursive_search(item, new_path)\n",
    "\n",
    "    recursive_search(data)\n",
    "    for p in paths:\n",
    "        print(p)\n",
    "    return paths"
   ]
  }
 ],
 "metadata": {
  "kernelspec": {
   "display_name": "elec",
   "language": "python",
   "name": "python3"
  },
  "language_info": {
   "codemirror_mode": {
    "name": "ipython",
    "version": 3
   },
   "file_extension": ".py",
   "mimetype": "text/x-python",
   "name": "python",
   "nbconvert_exporter": "python",
   "pygments_lexer": "ipython3",
   "version": "3.12.3"
  }
 },
 "nbformat": 4,
 "nbformat_minor": 5
}
