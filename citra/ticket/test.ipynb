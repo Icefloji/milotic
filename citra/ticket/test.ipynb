{
 "cells": [
  {
   "cell_type": "code",
   "execution_count": null,
   "id": "57152e58",
   "metadata": {},
   "outputs": [],
   "source": [
    "def find_paths(data, target):\n",
    "    # 查询函数\n",
    "    paths = []\n",
    "\n",
    "    def recursive_search(obj, path='tk'):\n",
    "        if isinstance(obj, dict):\n",
    "            for k, v in obj.items():\n",
    "                new_path = f'{path}[\"{k}\"]'\n",
    "                if str(v).startswith(target):\n",
    "                    print(v)\n",
    "                    paths.append(new_path)\n",
    "                else:\n",
    "                    recursive_search(v, new_path)\n",
    "        elif isinstance(obj, list):\n",
    "            for idx, item in enumerate(obj):\n",
    "                new_path = f'{path}[{idx}]'\n",
    "                recursive_search(item, new_path)\n",
    "\n",
    "    recursive_search(data)\n",
    "    for p in paths:\n",
    "        print(p)\n",
    "    return paths\n",
    "\n",
    "\n",
    "# find_paths(tk,target='7')\n"
   ]
  }
 ],
 "metadata": {
  "language_info": {
   "name": "python"
  }
 },
 "nbformat": 4,
 "nbformat_minor": 5
}
