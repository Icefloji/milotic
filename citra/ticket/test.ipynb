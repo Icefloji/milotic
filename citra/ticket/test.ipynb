{
 "cells": [
  {
   "cell_type": "code",
   "execution_count": null,
   "id": "10768c2c",
   "metadata": {},
   "outputs": [],
   "source": [
    "import json\n",
    "import re\n",
    "\n",
    "# tk = json.load(Path('E:/code/python/milotic/data/ticket/breakfix', 'ticket.json').open('r', encoding='utf-8'))\n"
   ]
  },
  {
   "cell_type": "code",
   "execution_count": null,
   "id": "57152e58",
   "metadata": {},
   "outputs": [
    {
     "name": "stdout",
     "output_type": "stream",
     "text": [
      "1\n"
     ]
    }
   ],
   "source": [
    "def find_key_value(data, target_key):\n",
    "    \"\"\"\n",
    "    递归查找字典或列表中是否存在指定键，并返回对应的值。\n",
    "    \"\"\"\n",
    "    if isinstance(data, dict):\n",
    "        if target_key in data:\n",
    "            return data[target_key]  # ✅ 找到目标键，返回对应值\n",
    "        for v in data.values():\n",
    "            result = find_key_value(v, target_key)\n",
    "            if result is not None:\n",
    "                return result\n",
    "    elif isinstance(data, list):\n",
    "        for item in data:\n",
    "            result = find_key_value(item, target_key)\n",
    "            if result is not None:\n",
    "                return result\n",
    "    return None  # ❌ 没找到\n",
    "\n",
    "\n",
    "# print(find_key_value(tk, 'number'))\n"
   ]
  },
  {
   "cell_type": "code",
   "execution_count": null,
   "id": "d1272f57",
   "metadata": {},
   "outputs": [
    {
     "data": {
      "text/plain": [
       "[]"
      ]
     },
     "execution_count": 7,
     "metadata": {},
     "output_type": "execute_result"
    }
   ],
   "source": [
    "def find_paths(data, target):\n",
    "    \"\"\"\n",
    "    在嵌套的字典和列表中查找包含特定字符串的值，并返回其路径\n",
    "    \"\"\"\n",
    "    paths = []\n",
    "\n",
    "    def recursive_search(obj, path='tk'):\n",
    "        if isinstance(obj, dict):\n",
    "            for k, v in obj.items():\n",
    "                new_path = f'{path}[\"{k}\"]'\n",
    "                if str(v).startswith(target):\n",
    "                    print(v)\n",
    "                    paths.append(new_path)\n",
    "                else:\n",
    "                    recursive_search(v, new_path)\n",
    "        elif isinstance(obj, list):\n",
    "            for idx, item in enumerate(obj):\n",
    "                new_path = f'{path}[{idx}]'\n",
    "                recursive_search(item, new_path)\n",
    "\n",
    "    recursive_search(data)\n",
    "    for p in paths:\n",
    "        print(p)\n",
    "    return paths\n",
    "\n",
    "\n",
    "# find_paths(tk, 1)"
   ]
  },
  {
   "cell_type": "code",
   "execution_count": 16,
   "id": "2a5920f2",
   "metadata": {},
   "outputs": [],
   "source": [
    "json_str = open(r'E:\\code\\python\\milotic\\data\\ticket\\丽水-青田-青田城区供电中心-城供中心供电服务班-2025-05-PI-001[数].json', encoding='utf-8').read()\n",
    "tk = json.loads(json_str)['result']"
   ]
  },
  {
   "cell_type": "code",
   "execution_count": 17,
   "id": "49f04b8a",
   "metadata": {},
   "outputs": [
    {
     "name": "stdout",
     "output_type": "stream",
     "text": [
      "\n",
      "    单位：青田城区供电中心\n",
      "    编号：丽水-青田-青田城区供电中心-城供中心供电服务班-2025-05-PI-001[数]\n",
      "\n",
      "    1.工作负责人：叶家贵\n",
      "    班组：城供中心供电服务班\n",
      "\n",
      "    2.工作班成员(不包括工作负责人)：\n",
      "    周东勇,张双强,周海广,曾渊余,王苏环等   共6人。\n",
      "\n",
      "    3.停电线路名称(多回线路应注明双重称号)：10千伏水南B115线青田博物馆环网单元\n",
      "\n",
      "    4.工作任务：\n",
      "    |工作地点(地段)或设备|  工作内容|\n",
      "    |-------------------------------|--------------|\n",
      "    |10千伏水南B115线青田博物馆环网单元|1、10KV水南B115线青田博物馆环网单元及馆伯B115E线、博电B115F线电缆头拆除，2、原馆伯B115E线、博电B115F线电缆头搭接至新增青田博物馆电缆对接箱|\n",
      "\n",
      "    5.计划工作时间：自2025-05-08 09:15:00至 2025-05-08 16:45:00\n",
      "\n",
      "    6.安全措施(应改为检修状态的线路、设备名称，应断开的断路器（开关）、隔离开关（刀闸）、熔断\n",
      "    器，应合上的接地刀闸，应装设的接地线、绝缘隔板、遮栏（围栏）和标识牌等，装设的接地线应明确具体位置，必要时可附页绘图说明)：\n",
      "\n",
      "    6.1 调控或运维人员[变配电站、发电厂等]应采取的安全措施\n",
      "    |安全措施 |接地线编号|已执行|\n",
      "    |--------|----|--------|\n",
      "    |10kV水南B115线电视台环网单元电博B115F线由运行改热备用，并悬挂“禁止合闸，线路有人工作”警示牌||√|\n",
      "|10kV水南B115线伯温西路环网单元伯馆B115E线由运行改热备用，并悬挂“禁止合闸，线路有人工作”警示牌||√|\n",
      "|10kV水南B115线电视台环网单元电博B115F线由热备用改线路检修||√|\n",
      "|10kV水南B115线伯温西路环网单元伯馆B115E线由热备用改线路检修||√|\n",
      "\n",
      "    6.2 工作班完成的安全措施\n",
      "    |安全措施|已执行|\n",
      "    |-------|-----|\n",
      "    \n",
      "\n",
      "    6.3工作班装设(或拆除)的接地线\n",
      "    |线路名称、设备双重名称、装设位置|接地线编号|装设人|装设时间|拆除人|拆除时间|\n",
      "    |-------------------------------------|-----------|-------|----------|------|---------|\n",
      "    \n",
      "\n",
      "    6.4  配合停电线路应采取的安全措施\n",
      "    | 安全措施 | 接地线编号| 已执行   |\n",
      "    |---|---|----|\n",
      "    \n",
      "\n",
      "    6.5保留或邻近的带电线路、设备：\n",
      "    10kV水南B115线伯温西路环网单元、10kV水南B115线电视台环网单元母线及其他间隔带电\n",
      "\n",
      "    6.6其它安全措施和注意事项：\n",
      "    下井工作前，需“先通风，再检测，后作业”后检测合格后穿绝缘鞋、带绝缘手套，方可开展工作\n",
      "    \n"
     ]
    }
   ],
   "source": [
    "from citra.ticket.generate import get_ticket\n",
    "\n",
    "print(get_ticket('ticket1', tk))"
   ]
  },
  {
   "cell_type": "code",
   "execution_count": 18,
   "id": "ac4e4c3d",
   "metadata": {},
   "outputs": [
    {
     "data": {
      "text/plain": [
       "[{'node': '3.停电线路名称',\n",
       "  'satisfied': '0',\n",
       "  'rule': '2',\n",
       "  'explain': '电压单位不正确。',\n",
       "  'suggestion': '修改单位为kV。'},\n",
       " {'node': '4.工作任务',\n",
       "  'satisfied': '0',\n",
       "  'rule': '3',\n",
       "  'explain': '行1:电压单位不正确。行1:缺少杆号。',\n",
       "  'suggestion': '行1:修改单位为kV。行1:补充具体杆号。'}]"
      ]
     },
     "execution_count": 18,
     "metadata": {},
     "output_type": "execute_result"
    }
   ],
   "source": [
    "import importlib\n",
    "\n",
    "import citra.ticket.regex\n",
    "from citra.ticket.regex import produce_answer\n",
    "\n",
    "importlib.reload(citra.ticket.regex)\n",
    "\n",
    "produce_answer(tk, 'ticket1', 're')"
   ]
  },
  {
   "cell_type": "code",
   "execution_count": 14,
   "id": "47119f9c",
   "metadata": {},
   "outputs": [
    {
     "name": "stdout",
     "output_type": "stream",
     "text": [
      "('10kV', 'kV', '水南B115线', 'B115')\n"
     ]
    }
   ],
   "source": [
    "match = re.match(\n",
    "    r'(\\d+([Kk][vV]))?([\\u4e00-\\u9fff]+([A-Za-z\\d]+)[\\u4e00-\\u9fff]*线)?',\n",
    "    '10kV水南B115线青田博物馆环网单元',\n",
    ")\n",
    "if match:\n",
    "    print(match.groups())"
   ]
  }
 ],
 "metadata": {
  "kernelspec": {
   "display_name": ".venv",
   "language": "python",
   "name": "python3"
  },
  "language_info": {
   "codemirror_mode": {
    "name": "ipython",
    "version": 3
   },
   "file_extension": ".py",
   "mimetype": "text/x-python",
   "name": "python",
   "nbconvert_exporter": "python",
   "pygments_lexer": "ipython3",
   "version": "3.12.3"
  }
 },
 "nbformat": 4,
 "nbformat_minor": 5
}
