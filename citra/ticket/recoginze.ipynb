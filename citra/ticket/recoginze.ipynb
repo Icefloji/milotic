{
 "cells": [
  {
   "cell_type": "code",
   "execution_count": 38,
   "metadata": {},
   "outputs": [],
   "source": [
    "import json\n",
    "import os\n",
    "import re\n",
    "from pathlib import Path\n",
    "\n",
    "from ollama import ChatResponse, chat\n",
    "from openai import OpenAI\n"
   ]
  },
  {
   "cell_type": "code",
   "execution_count": 39,
   "metadata": {},
   "outputs": [],
   "source": [
    "client = OpenAI(\n",
    "    api_key=os.getenv('DASHSCOPE_API_KEY'),\n",
    "    base_url='https://dashscope.aliyuncs.com/compatible-mode/v1',\n",
    ")"
   ]
  },
  {
   "cell_type": "code",
   "execution_count": 40,
   "metadata": {},
   "outputs": [],
   "source": [
    "def get_question(rule: str, instance: str):\n",
    "    return f\"\"\"## 任务\n",
    "    请检查以下文档是否符合以下合规要求。每条规则只检测 规则中的【】项。如果项内容为空，则跳过检测。\n",
    "    输出*json格式*结果，包括错的误项node，匹配的规则rule，是否合规satisfi（0或1），的解析explain，修改建议suggestion。\n",
    "    [{{\n",
    "        'node':'1',\n",
    "        'satisfied':'0',\n",
    "        'rule':'2',\n",
    "        'explain':'天数为20天，超出规则设定的15天',\n",
    "        'suggestion':'检查天数是否填写错误'\n",
    "    }}]\n",
    "    ##规则\n",
    "    {rule}\n",
    "\n",
    "    ##文档\n",
    "    {instance}\n",
    "    \"\"\"\n",
    "\n",
    "\n",
    "def get_rule(ticket_type: str) -> str:\n",
    "    rule_path = Path('data/ticket/', ticket_type, 'rule.txt')\n",
    "    with rule_path.open('r', encoding='utf-8') as rf:\n",
    "        rule = rf.read()\n",
    "    return rule"
   ]
  },
  {
   "cell_type": "code",
   "execution_count": 41,
   "metadata": {},
   "outputs": [],
   "source": [
    "def ask(question: str) -> str:\n",
    "    completion = client.chat.completions.create(\n",
    "        model='qwen-max',\n",
    "        messages=[\n",
    "            {\n",
    "                'role': 'system',\n",
    "                'content': '你是一个文档校对助手，请根据*规则*，判断*文档*的填写规范性。',\n",
    "            },\n",
    "            {'role': 'user', 'content': question},\n",
    "        ],\n",
    "    )\n",
    "    return completion.choices[0].message.content or ''\n",
    "\n",
    "\n",
    "def ask_local(question: str) -> str:\n",
    "    response: ChatResponse = chat(\n",
    "        model='qwen2.5:3b',\n",
    "        messages=[\n",
    "            {\n",
    "                'role': 'system',\n",
    "                'content': '你是一个文档校对助手，请根据*规则*，判断*文档*的填写规范性。',\n",
    "            },\n",
    "            {'role': 'user', 'content': question},\n",
    "        ],\n",
    "    )\n",
    "    return response.message.content or ''"
   ]
  },
  {
   "cell_type": "code",
   "execution_count": 42,
   "metadata": {},
   "outputs": [],
   "source": [
    "def convert_json(answer: str) -> list:\n",
    "    pattern = r'(\\[[^\\]]+\\])'\n",
    "    search = re.search(pattern, answer)\n",
    "    if search:\n",
    "        return json.loads(search.group())\n",
    "    else:\n",
    "        return list()"
   ]
  },
  {
   "cell_type": "code",
   "execution_count": null,
   "metadata": {},
   "outputs": [],
   "source": []
  },
  {
   "cell_type": "code",
   "execution_count": 43,
   "metadata": {},
   "outputs": [],
   "source": [
    "def rec_re(ticket_type: str, tk: dict) -> list:\n",
    "    results = []\n",
    "    if ticket_type == 'ticket1':\n",
    "        from .regex import rec_re_ticket1\n",
    "\n",
    "        results = rec_re_ticket1(tk)\n",
    "    elif ticket_type == 'ticket2':\n",
    "        from .regex import rec_re_ticket2\n",
    "\n",
    "        results = rec_re_ticket2(tk)\n",
    "    elif ticket_type == 'break_fix':\n",
    "        pass\n",
    "\n",
    "    return results"
   ]
  },
  {
   "cell_type": "code",
   "execution_count": null,
   "metadata": {},
   "outputs": [],
   "source": [
    "def produce_answer(ticket_type: str, json_dict: dict, rec_method: str = 're') -> list:\n",
    "    tk: dict = json_dict\n",
    "    if 'result' in tk:\n",
    "        tk = tk['result']\n",
    "    ans_json = list()\n",
    "    if rec_method == 'ai':\n",
    "        from citra.service.generate import get_ticket\n",
    "\n",
    "        instance = get_ticket(ticket_type, tk)\n",
    "        rule = get_rule(ticket_type)\n",
    "        question = get_question(rule, instance)\n",
    "        answer = ask(question)\n",
    "        ans_json = convert_json(answer)\n",
    "    elif rec_method == 're':\n",
    "        ans_json = rec_re(ticket_type, tk)\n",
    "    return ans_json"
   ]
  }
 ],
 "metadata": {
  "kernelspec": {
   "display_name": ".venv",
   "language": "python",
   "name": "python3"
  },
  "language_info": {
   "codemirror_mode": {
    "name": "ipython",
    "version": 3
   },
   "file_extension": ".py",
   "mimetype": "text/x-python",
   "name": "python",
   "nbconvert_exporter": "python",
   "pygments_lexer": "ipython3",
   "version": "3.12.3"
  }
 },
 "nbformat": 4,
 "nbformat_minor": 2
}
