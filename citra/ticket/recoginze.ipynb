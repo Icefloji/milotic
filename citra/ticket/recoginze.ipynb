{
 "cells": [
  {
   "cell_type": "code",
   "execution_count": 3,
   "metadata": {},
   "outputs": [],
   "source": [
    "import json\n",
    "import os\n",
    "import re\n",
    "from pathlib import Path\n",
    "\n",
    "from ollama import ChatResponse, chat\n",
    "from openai import OpenAI\n",
    "\n",
    "ROOT_DIR = 'E:/code/python/WangXiang' or os.getenv('ROOT_DIR')\n"
   ]
  },
  {
   "cell_type": "code",
   "execution_count": null,
   "metadata": {},
   "outputs": [],
   "source": [
    "client = OpenAI(\n",
    "    api_key=os.getenv('DASHSCOPE_API_KEY'),\n",
    "    base_url='https://dashscope.aliyuncs.com/compatible-mode/v1',\n",
    ")"
   ]
  },
  {
   "cell_type": "code",
   "execution_count": null,
   "metadata": {},
   "outputs": [],
   "source": [
    "def get_question(rule: str, instance: str):\n",
    "    return f\"\"\"## 任务\n",
    "    请检查以下文档是否符合以下合规要求。每条规则只检测 规则中的【】项。如果项内容为空，则跳过检测。\n",
    "    输出*json格式*结果，包括错的误项node，匹配的规则rule，是否合规satisfi（0或1），的解析explain，修改建议suggestion。\n",
    "    [{{\n",
    "        'node':'1',\n",
    "        'satisfied':'0',\n",
    "        'rule':'2',\n",
    "        'explain':'天数为20天，超出规则设定的15天',\n",
    "        'suggestion':'检查天数是否填写错误'\n",
    "    }}]\n",
    "    ##规则\n",
    "    {rule}\n",
    "\n",
    "    ##文档\n",
    "    {instance}\n",
    "    \"\"\""
   ]
  },
  {
   "cell_type": "code",
   "execution_count": null,
   "metadata": {},
   "outputs": [],
   "source": [
    "def ask(question: str) -> str:\n",
    "    completion = client.chat.completions.create(\n",
    "        model='qwen-max',\n",
    "        messages=[\n",
    "            {\n",
    "                'role': 'system',\n",
    "                'content': '你是一个文档校对助手，请根据*规则*，判断*文档*的填写规范性。',\n",
    "            },\n",
    "            {'role': 'user', 'content': question},\n",
    "        ],\n",
    "    )\n",
    "    return completion.choices[0].message.content or ''\n",
    "\n",
    "\n",
    "def ask_local(question: str) -> str:\n",
    "    response: ChatResponse = chat(\n",
    "        model='qwen2.5:3b',\n",
    "        messages=[\n",
    "            {\n",
    "                'role': 'system',\n",
    "                'content': '你是一个文档校对助手，请根据*规则*，判断*文档*的填写规范性。',\n",
    "            },\n",
    "            {'role': 'user', 'content': question},\n",
    "        ],\n",
    "    )\n",
    "    return response.message.content or ''"
   ]
  },
  {
   "cell_type": "code",
   "execution_count": null,
   "metadata": {},
   "outputs": [],
   "source": [
    "def convert_json(answer: str) -> list:\n",
    "    pattern = r'(\\[[^\\]]+\\])'\n",
    "    search = re.search(pattern, answer)\n",
    "    if search:\n",
    "        return json.loads(search.group())\n",
    "    else:\n",
    "        return list()"
   ]
  },
  {
   "cell_type": "code",
   "execution_count": null,
   "metadata": {},
   "outputs": [],
   "source": [
    "def get_rule(ticket_type: str) -> str:\n",
    "    rule_path = Path(ROOT_DIR, 'data/ticket/', ticket_type, 'rule.txt')\n",
    "    with rule_path.open('r', encoding='utf-8') as rf:\n",
    "        rule = rf.read()\n",
    "    return rule"
   ]
  },
  {
   "cell_type": "code",
   "execution_count": null,
   "metadata": {},
   "outputs": [],
   "source": [
    "def rec_re(ticket_type: str, tk: dict) -> list:\n",
    "    results = []\n",
    "    if ticket_type == 'ticket1':\n",
    "        from .regex import rec_re_ticket1\n",
    "\n",
    "        results = rec_re_ticket1(tk)\n",
    "    elif ticket_type == 'ticket2':\n",
    "        from .regex import rec_re_ticket2\n",
    "\n",
    "        results = rec_re_ticket2(tk)\n",
    "    elif ticket_type == 'break_fix':\n",
    "        pass\n",
    "\n",
    "    return results"
   ]
  },
  {
   "cell_type": "code",
   "execution_count": null,
   "metadata": {},
   "outputs": [],
   "source": [
    "def produce_answer(ticket_type: str, json_dict: dict, rec_method: str = 're') -> list:\n",
    "    tk: dict = json_dict\n",
    "    if 'result' in tk:\n",
    "        tk = tk['result']\n",
    "    ans_json = list()\n",
    "    if rec_method == 'ai':\n",
    "        from .generate import get_ticket\n",
    "\n",
    "        instance = get_ticket(ticket_type, tk)\n",
    "        rule = get_rule(ticket_type)\n",
    "        question = get_question(rule, instance)\n",
    "        answer = ask(question)\n",
    "        ans_json = convert_json(answer)\n",
    "    elif rec_method == 're':\n",
    "        ans_json = rec_re(ticket_type, tk)\n",
    "    return ans_json"
   ]
  },
  {
   "cell_type": "code",
   "execution_count": null,
   "metadata": {},
   "outputs": [],
   "source": [
    "if __name__ == '__main__':\n",
    "    json_str = open('E:/code/python/WangXiang/data/ticket/breakfix/ticket.json', encoding='utf-8').read()\n",
    "    tk = json.loads(json_str)['result']"
   ]
  },
  {
   "cell_type": "code",
   "execution_count": null,
   "metadata": {},
   "outputs": [
    {
     "name": "stdout",
     "output_type": "stream",
     "text": [
      "\n",
      "    单位 ：楚门供电所 票号：台州-玉环-楚门供电所-楚门供电服务二班-2025-04-PQ-001[数]\n",
      "    1 抢修工作负责人：林远峰 班组：楚门供电服务二班\n",
      "    风险等级：05\n",
      "\n",
      "    2 抢修班人员（不包括抢修工作负责人）：\n",
      "    黄亚运\n",
      "\n",
      "    3 抢修工作任务\n",
      "    |工作地点(地段)或设备|  工作内容|\n",
      "    |-------------------------------|--------------|\n",
      "    |楚门镇马山村闸头南1号|用户表计出线烧坏更换|\n",
      "\n"
     ]
    }
   ],
   "source": [
    "from generate import get_breakfix\n",
    "\n",
    "print(get_breakfix(tk))"
   ]
  }
 ],
 "metadata": {
  "kernelspec": {
   "display_name": "elec",
   "language": "python",
   "name": "python3"
  },
  "language_info": {
   "codemirror_mode": {
    "name": "ipython",
    "version": 3
   },
   "file_extension": ".py",
   "mimetype": "text/x-python",
   "name": "python",
   "nbconvert_exporter": "python",
   "pygments_lexer": "ipython3",
   "version": "3.12.3"
  }
 },
 "nbformat": 4,
 "nbformat_minor": 2
}
