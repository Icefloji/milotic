{
 "cells": [
  {
   "cell_type": "code",
   "execution_count": null,
   "metadata": {},
   "outputs": [],
   "source": [
    "import re\n",
    "import pandas as pd\n",
    "\n",
    "ROOT_DIR = 'e:/code/python/WangXiang'"
   ]
  },
  {
   "cell_type": "code",
   "execution_count": null,
   "metadata": {},
   "outputs": [],
   "source": [
    "def cut_head(s: str) -> str:\n",
    "    pat_ignore = r'[^\\u4e00-\\u9fa5]*([\\u4e00-\\u9fa5\\d]*)[^\\u4e00-\\u9fa5\\d]?'\n",
    "    match = re.match(pat_ignore, s)\n",
    "    if match:\n",
    "        addr = match.group(1)\n",
    "        search_phone = re.search(r'(/d{11})', s)\n",
    "        if search_phone:\n",
    "            addr += search_phone.group(1)\n",
    "        return addr\n",
    "    else:\n",
    "        return ''\n",
    "\n",
    "\n",
    "filename = '95598-1.xlsx'\n",
    "df1: pd.Series = pd.read_excel(f'{ROOT_DIR}/data/address/{filename}').iloc[:, 0]\n",
    "df2: pd.Series = df1.apply(cut_head)"
   ]
  },
  {
   "cell_type": "code",
   "execution_count": null,
   "metadata": {},
   "outputs": [
    {
     "name": "stdout",
     "output_type": "stream",
     "text": [
      "{'省': None, '市': None, '县': None, '街道': None, '行政村': None, '自然村': None, '路': None, '号': None, '区': None, '无用': ''}\n"
     ]
    }
   ],
   "source": [
    "prov_town = r'(?P<省>[^省]{2,5}(省|自治区))?(?P<市>[^市]{2,3}市)?(?P<县>[\\u4e00-\\u9fa5]{2,4}(县|市|区))?(?P<街道>[\\u4e00-\\u9fa5]{2,4}(街道|镇))?'\n",
    "cun_street = r'(?P<行政村>[\\u4e00-\\u9fa5]{2,4}(行政村|村|社区))?(?P<自然村>[\\u4e00-\\u9fa5]{2,4}(自然村|村|居委会))?(?P<路>[\\u4e00-\\u9fa5]{1,5}(路|街|大道|道|巷))?'\n",
    "num_none = r'(?P<号>\\d{1,4}号)?(?P<区>[\\u4e00-\\u9fa5A-Za-z\\d]{1,5}(家|屋|洲|园|苑|小区|区|塘|公寓))?(?P<无用>[\\u4e00-\\u9fa5\\d]*)?'\n",
    "pattern = prov_town + cun_street + num_none\n",
    "\n",
    "# 名字短的名字都写这里\n",
    "keywords = {'柯村': '行政村'}\n",
    "\n",
    "\n",
    "def extract(addr: str, address_pattern=pattern) -> dict:\n",
    "    match = re.match(address_pattern, addr)\n",
    "    res = {}\n",
    "    if match:\n",
    "        res = match.groupdict()\n",
    "    # 识别关键字\n",
    "    for key, value in keywords.items():\n",
    "        if key in res['无用']:\n",
    "            # 结果[区]+=‘区’\n",
    "            res[value] = (res[value] or '') + key\n",
    "            res['无用'] = res['无用'].replace(key, '')\n",
    "    # 识别第二次\n",
    "    match2 = re.search(address_pattern, res['无用'])\n",
    "    if match2:\n",
    "        for key, value in match2.groupdict().items():\n",
    "            if res[key] is None:\n",
    "                res[key] = value\n",
    "                res['无用'] = res['无用'].replace((value or ''), '')\n",
    "    # 特别，加上号\n",
    "    match3 = re.match(r'[\\u4e00-\\u9fa5\\d]+?\\d+号', res['无用'])\n",
    "    if match3 and res['区'] is None:\n",
    "        res['号'] = match3.group()\n",
    "        res['无用'] = res['无用'].replace(match3.group(), '')\n",
    "    return res\n",
    "\n",
    "\n",
    "# 测试 单个字符串\n",
    "addr = 'Ts51102186.'\n",
    "asf = extract(cut_head(addr))\n",
    "print(asf)"
   ]
  },
  {
   "cell_type": "code",
   "execution_count": null,
   "metadata": {},
   "outputs": [],
   "source": [
    "df3: pd.DataFrame = df2.apply(extract).apply(pd.Series)\n"
   ]
  },
  {
   "cell_type": "code",
   "execution_count": null,
   "metadata": {},
   "outputs": [],
   "source": [
    "df3['raw'] = df1\n",
    "# 改名字，删除列\n",
    "df3.columns = ['省', '市', '县', '街道', '行政村', '自然村', '路', '号', '区', '无用', 'raw']\n",
    "df3 = df3.drop(columns=['无用'])\n",
    "df3.to_excel(f'{ROOT_DIR}/data/address/parse_{filename}', index=False)\n"
   ]
  }
 ],
 "metadata": {
  "kernelspec": {
   "display_name": "elec",
   "language": "python",
   "name": "python3"
  },
  "language_info": {
   "codemirror_mode": {
    "name": "ipython",
    "version": 3
   },
   "file_extension": ".py",
   "mimetype": "text/x-python",
   "name": "python",
   "nbconvert_exporter": "python",
   "pygments_lexer": "ipython3",
   "version": "3.12.7"
  }
 },
 "nbformat": 4,
 "nbformat_minor": 2
}
