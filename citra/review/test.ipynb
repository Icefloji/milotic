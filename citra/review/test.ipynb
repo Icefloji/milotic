{
 "cells": [
  {
   "cell_type": "code",
   "execution_count": 2,
   "id": "5dd7068a",
   "metadata": {},
   "outputs": [],
   "source": [
    "from langchain_community.chat_models import ChatTongyi\n",
    "from langchain_core.prompts import ChatPromptTemplate\n",
    "from langchain_ollama.chat_models import ChatOllama"
   ]
  },
  {
   "cell_type": "code",
   "execution_count": 3,
   "id": "6c145d41",
   "metadata": {},
   "outputs": [],
   "source": [
    "model = ChatOllama(model='qwen2.5:3b')\n",
    "model = ChatTongyi(model='qwen-max')"
   ]
  },
  {
   "cell_type": "code",
   "execution_count": null,
   "id": "9a9e38b9",
   "metadata": {},
   "outputs": [],
   "source": [
    "prompot = ChatPromptTemplate.from_messages(\n",
    "    [\n",
    "        (\n",
    "            'system',\n",
    "            '检查段落的。仅输出结果，分点markdown格式。1语句通顺；2标点错误；3错别字。',\n",
    "        ),\n",
    "        ('human', '西胡虽然白天美丽动人！夜晚更是别有一番风味。'),\n",
    "        ('ai', '1.错别字 。’西湖‘应为’西湖‘。2.标点错误。’！‘应为’,‘。3.连词错误。‘虽然’应为‘不仅’'),\n",
    "        ('human', '{question}'),\n",
    "    ]\n",
    ")"
   ]
  },
  {
   "cell_type": "code",
   "execution_count": null,
   "id": "1235bd8e",
   "metadata": {},
   "outputs": [
    {
     "data": {
      "text/plain": [
       "AIMessage(content=\"- 错别字。'西胡'应为'西湖'。\\n- 标点错误。'！'应为','。\\n- 错别字。'估计'应为'古迹'。\", additional_kwargs={}, response_metadata={'model_name': 'qwen-max', 'finish_reason': 'stop', 'request_id': '8f6e7588-7e76-963f-8486-77a0dfe5ab77', 'token_usage': {'input_tokens': 183, 'output_tokens': 45, 'total_tokens': 228, 'prompt_tokens_details': {'cached_tokens': 0}}}, id='run--eb3181f3-5867-41c2-a255-9985c43f1e0e-0')"
      ]
     },
     "execution_count": 15,
     "metadata": {},
     "output_type": "execute_result"
    }
   ],
   "source": [
    "question = '西胡不仅白天美丽动人！夜晚更是别有一番风味。湖边的灯光倒映在水面上，给人们带来了不一样的视觉享受。此外，西胡边还有许多估计和文化遗址等待着游客去探索发现。这里的美食也是一大特色，不容错过。希望每位到访者都能在这里找到属于自己的美好回忆。'\n",
    "answer = (prompot | model).invoke({'question': question})\n",
    "answer"
   ]
  },
  {
   "cell_type": "code",
   "execution_count": 16,
   "id": "9c58a93b",
   "metadata": {},
   "outputs": [
    {
     "name": "stdout",
     "output_type": "stream",
     "text": [
      "- 错别字。'西胡'应为'西湖'。\n",
      "- 标点错误。'！'应为','。\n",
      "- 错别字。'估计'应为'古迹'。\n"
     ]
    }
   ],
   "source": [
    "print(answer.content)"
   ]
  }
 ],
 "metadata": {
  "kernelspec": {
   "display_name": ".venv",
   "language": "python",
   "name": "python3"
  },
  "language_info": {
   "codemirror_mode": {
    "name": "ipython",
    "version": 3
   },
   "file_extension": ".py",
   "mimetype": "text/x-python",
   "name": "python",
   "nbconvert_exporter": "python",
   "pygments_lexer": "ipython3",
   "version": "3.12.3"
  }
 },
 "nbformat": 4,
 "nbformat_minor": 5
}
