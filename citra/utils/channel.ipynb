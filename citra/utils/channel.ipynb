{
 "cells": [
  {
   "cell_type": "code",
   "execution_count": 1,
   "id": "0e82bdea",
   "metadata": {},
   "outputs": [],
   "source": [
    "from pathlib import Path\n",
    "import os\n",
    "from pydub import AudioSegment\n",
    "\n",
    "os.chdir('e:/code/python/WangXiang')"
   ]
  },
  {
   "cell_type": "code",
   "execution_count": 2,
   "id": "16538841",
   "metadata": {},
   "outputs": [],
   "source": [
    "def pr_info(audio):\n",
    "    print(f'时长（秒）：{len(audio) / 1000.0}')\n",
    "    print(f'声道数（channels）：{audio.channels}')\n",
    "    print(f'采样率（frame_rate）：{audio.frame_rate}')\n",
    "    print(f'帧宽（sample_width）：{audio.sample_width} 字节')\n"
   ]
  },
  {
   "cell_type": "code",
   "execution_count": 3,
   "id": "aaa75a93",
   "metadata": {},
   "outputs": [],
   "source": [
    "audio = AudioSegment.from_file(Path('data/recording/audio/dailog.mp3'))\n",
    "channels = audio.split_to_mono()\n",
    "left_channel = channels[0]\n",
    "right_channel = channels[1]"
   ]
  },
  {
   "cell_type": "code",
   "execution_count": 4,
   "id": "72647882",
   "metadata": {},
   "outputs": [],
   "source": [
    "segment_length = 200  # 毫秒\n",
    "\n",
    "\n",
    "def segment_audio(audio, segment_length):\n",
    "    segments = []\n",
    "    for start_ms in range(0, len(audio), segment_length):\n",
    "        segment = audio[start_ms : start_ms + segment_length]\n",
    "        segments.append(segment)\n",
    "    return segments\n",
    "\n",
    "\n",
    "left_segments = segment_audio(left_channel, segment_length)\n",
    "right_segments = segment_audio(right_channel, segment_length)\n",
    "\n",
    "n = len(left_segments)\n"
   ]
  },
  {
   "cell_type": "code",
   "execution_count": 5,
   "id": "3fb04735",
   "metadata": {},
   "outputs": [],
   "source": [
    "flags = []\n",
    "for idx in range(n):\n",
    "    if left_segments[idx].rms > right_segments[idx].rms:\n",
    "        flags.append(0)\n",
    "    else:\n",
    "        flags.append(1)"
   ]
  },
  {
   "cell_type": "code",
   "execution_count": 6,
   "id": "db6af7ff",
   "metadata": {},
   "outputs": [
    {
     "name": "stdout",
     "output_type": "stream",
     "text": [
      "最小连续段数：5\n",
      "[1, 1, 1, 1, 1, 1, 1, 1, 1, 1, 1, 1, 1, 1, 1, 1, 1, 1, 0, 0, 0, 0, 0, 0, 0, 0, 0, 0, 0, 1, 1, 1, 1, 1, 1, 1, 1, 1, 1, 1, 1, 1, 1, 1, 1, 1, 1, 1, 1, 1, 1, 1, 1, 1, 1, 1, 1, 1, 1, 1, 1, 1, 1, 1, 1, 1, 1, 1, 1, 1, 1, 1, 1, 1, 1, 1, 0, 0, 0, 0, 0, 0, 0, 0, 0, 0, 0, 1, 1, 1, 1, 1, 1, 1, 1, 1, 1, 1, 1, 1, 1, 1, 1, 1, 1, 1, 1, 1, 1, 1, 1, 1, 1, 1, 1, 1, 1, 1, 1, 1, 1, 1, 1, 1, 1, 1, 1, 1, 1, 1, 1, 1, 1, 1, 1, 1, 1, 1, 1, 1, 1, 1, 1, 1, 1, 1, 1, 1, 1, 1, 1, 1, 1, 1, 1, 1, 1, 1, 1, 1, 1, 1, 1, 1, 1, 1, 0, 1, 0, 0, 0, 0, 0, 0, 0, 0, 0, 0, 0, 0, 0, 0, 0, 0, 0, 0, 0, 0, 0, 0, 0, 0, 0, 1, 1, 1, 1, 1, 1, 1, 1, 1, 1, 1, 1, 1, 1, 1, 1, 1, 1, 1, 1, 1, 1, 1, 1, 1, 1, 1, 1, 1, 1, 1, 0, 0, 0, 0, 0, 0, 0, 0, 0, 0, 0, 0, 1, 1, 1, 1, 1, 1, 1, 1, 1, 1, 1, 1, 1, 0, 0, 0, 0, 0, 0, 0, 0, 0, 0, 0, 0, 0, 0, 0, 0, 0, 0, 0, 0, 0, 0, 0, 0, 0, 0, 0, 0, 0, 0, 0, 0, 0, 0, 0, 0, 0, 0, 0, 0, 0, 0, 0, 1, 1, 1, 1, 1, 1, 1, 1, 1, 1, 1, 1, 1, 1, 1, 1, 1, 1, 1, 1, 1, 1, 1, 1, 1, 1, 1, 1, 1, 1, 1, 1, 1, 1, 1, 1, 1, 1, 1, 1, 1, 1, 1, 1, 1, 1, 1, 1, 1, 1, 1, 1, 1, 1, 1, 1, 1, 1, 1, 1, 1, 1, 1, 1, 1, 1, 1, 1, 1, 1, 1, 1, 1, 1, 1, 1, 1, 1, 1, 1, 0, 0, 0, 0, 0, 0, 0, 0, 0, 0, 0, 0, 0, 0, 0, 0, 0, 1, 1, 1, 1, 1, 1, 1, 1, 1, 1, 1, 1, 1, 1, 1, 1, 1, 1, 1, 1, 1, 1, 1, 1, 1, 1, 1, 1, 1, 1, 1, 1, 1, 1, 1, 1, 1, 1, 1, 1, 1, 1, 1, 1, 1, 1, 1, 1, 1, 1, 1, 0, 0, 0, 0, 0, 0, 0, 0, 0, 0, 0, 0, 0, 0, 0, 0, 0, 0, 0, 0, 0, 0, 0, 0, 0, 0, 0, 0, 0, 0, 0, 0, 0, 0, 0, 0, 0, 0, 0, 0, 0, 0, 0, 0, 0, 0, 0, 0, 0, 1, 1, 1, 1, 1, 1, 1, 1, 1, 1, 1, 1, 1, 1, 1, 1, 1, 1, 1, 1, 1, 1, 1, 1, 1, 1, 1, 1, 1, 1, 1, 1, 1, 1, 1, 1, 1, 1, 1, 1, 1, 1, 0, 0, 0, 0, 0, 0, 0, 0, 0, 0, 0, 0, 0, 0, 0, 0, 0, 0, 0, 0, 0, 0, 0, 0, 0, 0, 0, 0, 0, 0, 0, 0, 0, 0, 0, 0, 0, 0, 0, 0, 0, 0, 0, 0, 0, 0, 1, 1, 1, 1, 1, 1, 1, 1, 1, 1, 1, 1, 1, 1, 1, 1, 1, 1, 1, 1, 1, 1, 1, 1, 1, 1, 1, 1, 1, 1, 1, 1, 0, 0, 0, 0, 0, 0, 0, 0, 0, 0, 0, 0, 0, 0, 0, 0, 0, 0, 0, 0, 0, 0, 0, 0, 0, 0, 0, 0, 0, 0, 1, 0, 0, 0, 0, 0, 0, 0, 0, 0, 0, 0, 0, 0, 0, 0, 0, 0, 0, 0, 0, 0, 0, 0, 0, 0, 0, 0, 0, 0, 0, 0, 0, 0, 0, 0, 0, 0, 0, 0, 0, 0, 0, 0, 0, 0, 0, 0, 0, 0, 0, 0, 0, 0, 0, 0, 0, 0, 0, 0, 0, 0, 0, 0, 0, 0, 0, 0, 0, 0, 0, 0, 0, 0, 0, 1, 1, 1, 1, 1, 1, 1, 1, 1, 1, 1, 1, 1, 1, 1, 1, 1, 1, 1, 1, 1, 1, 1, 1, 1, 1, 1, 1, 1, 1, 1, 1, 1, 1, 1, 1, 1, 1, 1, 1, 1, 1, 1, 1, 1, 1, 1, 1, 1, 0, 0, 0, 0, 0, 0, 0, 0, 0, 0, 0, 0, 0, 0, 0, 0, 0, 0, 0, 0, 0, 0, 0, 1, 1, 1, 1, 1, 1, 1, 1, 1, 1, 1, 1, 1, 1, 1, 1, 1, 0, 0, 0, 0, 0, 0, 0, 0, 0, 0, 0, 0, 0, 0, 0, 0, 0, 0, 0, 0, 0, 0, 0, 0, 0, 0, 0, 0, 0, 0, 0, 0, 0, 0, 0, 1, 1, 0, 0, 0, 0, 0, 0, 0, 0, 0, 0, 0, 0, 0, 0, 1, 1, 1, 1, 1, 1, 1, 1, 1, 1, 1, 1, 1, 1, 1, 1, 1, 0, 0, 0, 0, 0, 0, 0, 0, 0, 0, 0, 0, 0, 0, 0, 0, 0, 1, 1, 1, 1, 1, 1, 1, 1, 1, 1, 1, 1, 1, 1, 1, 0, 0, 0, 0, 1, 1, 1, 1, 1, 1, 1, 0, 0, 0, 0, 0, 0, 0, 0, 0, 0, 1, 1, 1, 1, 1]\n"
     ]
    }
   ],
   "source": [
    "def modify_segments(arr, min_sec):\n",
    "    min_count = int(min_sec / (segment_length / 1000.0))\n",
    "    print(f'最小连续段数：{min_count}')\n",
    "    i = 0\n",
    "    while i < len(arr):\n",
    "        count = 1\n",
    "        while i + 1 < len(arr) and arr[i] == arr[i + 1]:\n",
    "            count += 1\n",
    "            i += 1\n",
    "        if count < min_count:\n",
    "            for j in range(i - count + 1, i + 1):\n",
    "                arr[j] = 1 - arr[i]\n",
    "\n",
    "        i += 1\n",
    "    return arr\n",
    "\n",
    "\n",
    "# arr = [0, 0, 0,0,0,0,0,0, 1, 1, 1, 1, 0, 0, 0, 0, 0, 0, 1, 1, 1, 1, 1, 1, 1, 1, 1]\n",
    "# 最短持续的秒数 ，2\n",
    "modified_flags = modify_segments(flags, 1)\n",
    "\n",
    "print(modified_flags)"
   ]
  },
  {
   "cell_type": "code",
   "execution_count": 7,
   "id": "bb771463",
   "metadata": {},
   "outputs": [],
   "source": [
    "for idx in range(n):\n",
    "    duration = len(left_segments[idx])\n",
    "    if flags[idx] == 1:\n",
    "        left_segments[idx] = AudioSegment.silent(duration=duration, frame_rate=8000)\n",
    "    else:\n",
    "        right_segments[idx] = AudioSegment.silent(duration=duration, frame_rate=8000)"
   ]
  },
  {
   "cell_type": "code",
   "execution_count": 8,
   "id": "d24f9830",
   "metadata": {},
   "outputs": [],
   "source": [
    "combined_left_audio = AudioSegment.empty()\n",
    "for seg in left_segments:\n",
    "    combined_left_audio += seg\n",
    "\n",
    "combined_right_audio = AudioSegment.empty()\n",
    "for seg in right_segments:\n",
    "    combined_right_audio += seg\n"
   ]
  },
  {
   "cell_type": "code",
   "execution_count": null,
   "id": "490878ee",
   "metadata": {},
   "outputs": [
    {
     "data": {
      "text/plain": [
       "<_io.BufferedRandom name='合成.mp3'>"
      ]
     },
     "execution_count": 11,
     "metadata": {},
     "output_type": "execute_result"
    }
   ],
   "source": [
    "combined_audio = AudioSegment.from_mono_audiosegments(combined_left_audio, combined_right_audio)\n",
    "# combined_audio.export('合成.mp3', format='mp3')"
   ]
  }
 ],
 "metadata": {
  "kernelspec": {
   "display_name": "elec",
   "language": "python",
   "name": "python3"
  },
  "language_info": {
   "codemirror_mode": {
    "name": "ipython",
    "version": 3
   },
   "file_extension": ".py",
   "mimetype": "text/x-python",
   "name": "python",
   "nbconvert_exporter": "python",
   "pygments_lexer": "ipython3",
   "version": "3.12.7"
  }
 },
 "nbformat": 4,
 "nbformat_minor": 5
}
