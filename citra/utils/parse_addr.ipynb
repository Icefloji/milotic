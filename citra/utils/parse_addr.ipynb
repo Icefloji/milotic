{
 "cells": [
  {
   "cell_type": "code",
   "execution_count": null,
   "id": "88128b91",
   "metadata": {},
   "outputs": [],
   "source": [
    "import re\n",
    "from pathlib import Path\n",
    "\n",
    "import pandas as pd\n"
   ]
  },
  {
   "cell_type": "code",
   "execution_count": null,
   "id": "5e9d412d",
   "metadata": {},
   "outputs": [],
   "source": [
    "def cut_head(s: str) -> str:\n",
    "    pat_ignore = r'[^\\u4e00-\\u9fa5]*([\\u4e00-\\u9fa5\\d]*)[^\\u4e00-\\u9fa5\\d]?'\n",
    "    s = str(s)\n",
    "    match = re.match(pat_ignore, s)\n",
    "    if match:\n",
    "        addr = match.group(1)\n",
    "        search_phone = re.search(r'(/d{11})', s)\n",
    "        if search_phone:\n",
    "            addr += search_phone.group(1)\n",
    "        return addr\n",
    "    else:\n",
    "        return ''\n",
    "\n",
    "\n",
    "# ruff :noqa: E501\n",
    "prov_town = r'(?P<省>[^省]{2,5}(省|自治区))?(?P<市>[^市]{2,3}市)?(?P<县>[\\u4e00-\\u9fa5]{2,4}(县|市|区))?(?P<镇>[\\u4e00-\\u9fa5]{2,4}(街道|镇))?'\n",
    "cun_street = r'(?P<行政村>[\\u4e00-\\u9fa5]{2,4}?(行政村|(?<!自然)村|社区))?(?P<自然村>[\\u4e00-\\u9fa5]{2,4}(自然村|村|居委会|委员会))?(?P<路>[\\u4e00-\\u9fa5]{1,4}(路|街|大道|道|巷))?'\n",
    "num_none = r'(?P<号>\\d{1,4}号)?(?P<区>[\\u4e00-\\u9fa5A-Za-z\\d]{2,4}?(小区|区|园|洲|苑|府|宅|塘|公寓|屋|城))?(?P<ignore>[\\u4e00-\\u9fa5\\d]*)?'\n",
    "pattern = prov_town + cun_street + num_none\n",
    "keywords = {}\n",
    "\n",
    "\n",
    "def extract(addr: str, address_pattern=pattern) -> dict:\n",
    "    match = re.match(address_pattern, addr)\n",
    "    res = {}\n",
    "    if match:\n",
    "        res: dict[str, str] = match.groupdict(default='')\n",
    "    # 识别关键字\n",
    "    for key, value in keywords.items():\n",
    "        if key in res['ignore']:\n",
    "            res[value] += key\n",
    "            res['ignore'] = res['ignore'].replace(key, '', 1)\n",
    "    # 识别第二次\n",
    "    match2 = re.search(address_pattern, res['ignore'])\n",
    "    if match2:\n",
    "        for key, value in match2.groupdict(default='').items():\n",
    "            if res[key] == '':\n",
    "                res[key] = value\n",
    "                res['ignore'] = res['ignore'].replace(value, '')\n",
    "            elif res[key] != value and key in {'路', '自然村'}:\n",
    "                res[key] += value\n",
    "                res['ignore'] = res['ignore'].replace(value, '')\n",
    "    # 特别，加上号\n",
    "    match3 = re.match(r'[\\u4e00-\\u9fa5\\d]+?\\d+号', res['ignore'])\n",
    "    if match3 and res['区'] is None:\n",
    "        res['号'] = match3.group()\n",
    "        res['ignore'] = res['ignore'].replace(match3.group(), '')\n",
    "    return res\n",
    "\n",
    "\n",
    "def convert_file(file_path: str) -> None:\n",
    "    \"\"\"Convert file to excel.\"\"\"\n",
    "    df1: pd.Series = pd.read_excel(file_path).iloc[:, 0]\n",
    "    df2: pd.Series = df1.apply(cut_head)\n",
    "    df3: pd.DataFrame = df2.apply(extract).apply(pd.Series)\n",
    "    df3['raw'] = df1\n",
    "    df3.columns = ['省', '市', '县', '镇', '行政村', '自然村', '路', '号', '区', 'ignore', 'raw']\n",
    "    # df3 = df3.drop(columns=['ignore'])\n",
    "    fp = Path(file_path)\n",
    "    df3.to_excel(fp.parent / ('convert_' + str(fp.name)), index=False)"
   ]
  },
  {
   "cell_type": "code",
   "execution_count": null,
   "id": "a1452191",
   "metadata": {},
   "outputs": [],
   "source": [
    "if __name__ == '__main__':\n",
    "    # convert_file('地址.xlsx')\n",
    "    addr = '浙江省金华市兰溪市马涧镇严宅行政村塘下自然村8号'\n",
    "    asf = extract(cut_head(addr))\n",
    "    print(asf)"
   ]
  }
 ],
 "metadata": {
  "jupytext": {
   "cell_metadata_filter": "-all",
   "main_language": "python",
   "notebook_metadata_filter": "-all"
  },
  "language_info": {
   "name": "python"
  }
 },
 "nbformat": 4,
 "nbformat_minor": 5
}
