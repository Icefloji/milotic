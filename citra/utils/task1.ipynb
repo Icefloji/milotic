{
 "cells": [
  {
   "cell_type": "code",
   "execution_count": 17,
   "id": "5c686921",
   "metadata": {},
   "outputs": [],
   "source": [
    "# %%\n",
    "import re\n",
    "\n",
    "import pandas as pd"
   ]
  },
  {
   "cell_type": "code",
   "execution_count": 18,
   "id": "13ee45a9",
   "metadata": {},
   "outputs": [],
   "source": [
    "# ruff :noqa: E501\n",
    "prov_town = r'(?P<省>[^省]{2,5}(省|自治区))?(?P<市>[^市]{2,3}市)?(?P<县>[\\u4e00-\\u9fa5]{2,4}(县|市|区))?(?P<镇>[\\u4e00-\\u9fa5]{2,4}(街道|镇))?'\n",
    "cun_street = r'(?P<行政村>[\\u4e00-\\u9fa5]{2,4}?(行政村|(?<!自然)村|社区))?(?P<自然村>[\\u4e00-\\u9fa5]{2,4}(自然村|村|居委会|委员会))?(?P<路>[\\u4e00-\\u9fa5]{1,4}(路|街|大道|道|巷))?'\n",
    "num_none = r'(?P<号>\\d{1,4}号)?(?P<区>[\\u4e00-\\u9fa5A-Za-z\\d]{2,4}?(小区|区|园|洲|苑|府|宅|塘|公寓|屋|城))?(?P<ignore>[\\u4e00-\\u9fa5\\d]*)?'\n",
    "pattern = prov_town + cun_street + num_none\n",
    "keywords = {}\n",
    "\n",
    "\n",
    "def extract(addr: str, address_pattern=pattern) -> dict:\n",
    "    match = re.match(address_pattern, addr)\n",
    "    res = {}\n",
    "    if match:\n",
    "        res: dict[str, str] = match.groupdict(default='')\n",
    "    # 识别关键字\n",
    "    for key, value in keywords.items():\n",
    "        if key in res['ignore']:\n",
    "            res[value] += key\n",
    "            res['ignore'] = res['ignore'].replace(key, '', 1)\n",
    "    # 识别第二次\n",
    "    match2 = re.search(address_pattern, res['ignore'])\n",
    "    if match2:\n",
    "        for key, value in match2.groupdict(default='').items():\n",
    "            if res[key] == '':\n",
    "                res[key] = value\n",
    "                res['ignore'] = res['ignore'].replace(value, '')\n",
    "            elif res[key] != value and key in {'路', '自然村'}:\n",
    "                res[key] += value\n",
    "                res['ignore'] = res['ignore'].replace(value, '')\n",
    "    # 特别，加上号\n",
    "    match3 = re.match(r'[\\u4e00-\\u9fa5\\d]+?\\d+号', res['ignore'])\n",
    "    if match3 and res['区'] is None:\n",
    "        res['号'] = match3.group()\n",
    "        res['ignore'] = res['ignore'].replace(match3.group(), '')\n",
    "    return res\n"
   ]
  },
  {
   "cell_type": "code",
   "execution_count": 19,
   "id": "14b25a29",
   "metadata": {},
   "outputs": [],
   "source": [
    "import sys\n",
    "\n",
    "word = sys.argv[1].replace(' ', '')\n",
    "fp_excel = sys.argv[2] if len(sys.argv) > 2 else 'address.xlsx'\n"
   ]
  },
  {
   "cell_type": "code",
   "execution_count": 20,
   "id": "914b9769",
   "metadata": {},
   "outputs": [],
   "source": [
    "series = pd.read_excel(fp_excel)['联系地址']\n",
    "df_excel = series.apply(extract).apply(pd.Series)\n",
    "df_excel['地址'] = series"
   ]
  },
  {
   "cell_type": "code",
   "execution_count": 26,
   "id": "540c9751",
   "metadata": {},
   "outputs": [
    {
     "name": "stdout",
     "output_type": "stream",
     "text": [
      "3    浙江省金华市兰溪市游埠镇前童村塘下自然村\n",
      "Name: 地址, dtype: object\n"
     ]
    }
   ],
   "source": [
    "word = '塘下自然村游埠镇'\n",
    "query_dict = extract(word)\n",
    "search_dict = [[k, v] for k, v in query_dict.items() if v]\n",
    "df_res = df_excel.copy(deep=True)\n",
    "for k, v in search_dict:\n",
    "    df_res = df_res.loc[df_excel[k] == v]\n",
    "print(df_res['地址'])\n"
   ]
  }
 ],
 "metadata": {
  "kernelspec": {
   "display_name": ".venv",
   "language": "python",
   "name": "python3"
  },
  "language_info": {
   "codemirror_mode": {
    "name": "ipython",
    "version": 3
   },
   "file_extension": ".py",
   "mimetype": "text/x-python",
   "name": "python",
   "nbconvert_exporter": "python",
   "pygments_lexer": "ipython3",
   "version": "3.12.3"
  }
 },
 "nbformat": 4,
 "nbformat_minor": 5
}
