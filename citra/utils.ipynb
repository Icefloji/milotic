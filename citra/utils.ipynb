{
 "cells": [
  {
   "cell_type": "markdown",
   "metadata": {},
   "source": [
    "pdf转txt"
   ]
  },
  {
   "cell_type": "code",
   "execution_count": null,
   "metadata": {},
   "outputs": [],
   "source": [
    "import os\n",
    "\n",
    "os.environ['LANGSMITH_TRACING_V2'] = 'true'"
   ]
  },
  {
   "cell_type": "code",
   "execution_count": null,
   "metadata": {},
   "outputs": [],
   "source": [
    "import fitz\n",
    "\n",
    "\n",
    "def extract_text_from_pdf(pdf_path):\n",
    "    \"\"\"提取pdf中的全部文本\"\"\"\n",
    "    \"\"\"Extract text from a PDF file.\"\"\"\n",
    "    text = ''\n",
    "    with open(pdf_path, 'rb') as file:\n",
    "        reader = pymupdf.PdfReader(file)\n",
    "        for page in reader.pages:\n",
    "            text += page.extract_text()\n",
    "    return text\n",
    "\n",
    "\n",
    "pdf_path = 'data/rag/供电规则.pdf'  # Replace with your PDF file path\n",
    "text = extract_text_from_pdf(pdf_path).replace('\\n', '')\n",
    "# Save the extracted text to a file\n",
    "with open('data/extracted_text.txt', 'w', encoding='utf-8') as f:\n",
    "    f.write(text)"
   ]
  },
  {
   "cell_type": "code",
   "execution_count": null,
   "metadata": {},
   "outputs": [],
   "source": [
    "def recur_extract_images(pdf_path, out_path='pdf_images'):\n",
    "    \"\"\"递归提取文件夹中PDF中的图片\"\"\"\n",
    "    import fitz  # PyMuPDF\n",
    "    from pathlib import Path\n",
    "\n",
    "    i = 0\n",
    "    scr_path = Path(pdf_path)\n",
    "    for pdf_path in scr_path.rglob('*.pdf'):\n",
    "        doc = fitz.open(pdf_path)\n",
    "        for page_index in range(len(doc)):\n",
    "            page = doc[page_index]\n",
    "            images = page.get_images(full=True)\n",
    "\n",
    "            for img_index, img in enumerate(images):\n",
    "                xref = img[0]  # 图像的对象引用号\n",
    "                base_image = doc.extract_image(xref)\n",
    "                image_bytes = base_image['image']\n",
    "                image_ext = base_image['ext']\n",
    "                with open(f'pdf_images/{i}.{image_ext}', 'wb') as f:\n",
    "                    f.write(image_bytes)\n",
    "            i += 1\n",
    "\n",
    "\n",
    "recur_extract_images('e:/code/python/CnOCR-2.3.1/data/振兴')\n"
   ]
  },
  {
   "cell_type": "code",
   "execution_count": null,
   "metadata": {},
   "outputs": [],
   "source": [
    "from langchain_core.prompts import FewShotPromptTemplate, PromptTemplate\n",
    "\n",
    "question = PromptTemplate.from_template('请根据以下内容回答问题：{context}问题：{question}，答案：{answer}')\n",
    "examples = [\n",
    "    {\n",
    "        'context': '在中国，电力供应是由国家电网公司和南方电网公司负责的。',\n",
    "        'question': '中国的电力供应由哪些公司负责？',\n",
    "        'answer': '中国的电力供应由国家电网公司和南方电网公司负责。',\n",
    "    },\n",
    "    {\n",
    "        'context': '供电规则包括用电安全、用电计量和用电价格等方面。',\n",
    "        'question': '供电规则包括哪些方面？',\n",
    "        'answer': '供电规则包括用电安全、用电计量和用电价格等方面。',\n",
    "    },\n",
    "]\n",
    "\n",
    "\n",
    "prompt = FewShotPromptTemplate(examples=examples, example_prompt=question, suffix='请回答以下问题：{questio}')"
   ]
  },
  {
   "cell_type": "code",
   "execution_count": null,
   "metadata": {},
   "outputs": [],
   "source": [
    "import os\n",
    "from openai import OpenAI\n",
    "\n",
    "client = OpenAI(\n",
    "    api_key=os.getenv('DASHSCOPE_API_KEY'),\n",
    "    base_url='https://dashscope.aliyuncs.com/compatible-mode/v1',\n",
    ")\n",
    "\n",
    "\n",
    "def ask(question: str):\n",
    "    \"\"\"Ask a question to the model.\"\"\"\n",
    "    completion = client.chat.completions.create(\n",
    "        model='qwen-max',\n",
    "        messages=[\n",
    "            {'role': 'system', 'content': '你是'},\n",
    "            {'role': 'user', 'content': question},\n",
    "        ],\n",
    "    )\n",
    "    return completion.choices[0].message.content\n"
   ]
  },
  {
   "cell_type": "code",
   "execution_count": null,
   "metadata": {},
   "outputs": [],
   "source": [
    "# 少量实例提示\n",
    "examples = [\n",
    "    {'fruit': 'apple', 'person': 'me', 'id': '1'},\n",
    "    {'fruit': 'banana', 'person': 'you', 'id': '10'},\n",
    "    {'fruit': 'cherry', 'person': 'him', 'id': '20'},\n",
    "]\n",
    "\n",
    "selecotr = SemanticSimilarityExampleSelector.from_examples(\n",
    "    examples, OllamaEmbeddings(model='bge-m3:latest'), Chroma, k=1\n",
    ")\n",
    "# selector.select_examples({'id':24})\n",
    "example_prompt = PromptTemplate.from_template('{person} like {fruit}.')\n",
    "few_prompt = FewShotPromptTemplate(\n",
    "    example_selector=selecotr, example_prompt=example_prompt, suffix='what fruit i like', input_variables=['id']\n",
    ")\n",
    "model = ChatOllama(model='qwen2.5:3b')"
   ]
  }
 ],
 "metadata": {
  "kernelspec": {
   "display_name": ".venv",
   "language": "python",
   "name": "python3"
  },
  "language_info": {
   "codemirror_mode": {
    "name": "ipython",
    "version": 3
   },
   "file_extension": ".py",
   "mimetype": "text/x-python",
   "name": "python",
   "nbconvert_exporter": "python",
   "pygments_lexer": "ipython3",
   "version": "3.12.3"
  }
 },
 "nbformat": 4,
 "nbformat_minor": 2
}
