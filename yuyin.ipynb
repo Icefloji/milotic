{
 "cells": [
  {
   "cell_type": "code",
   "execution_count": 1,
   "metadata": {},
   "outputs": [],
   "source": [
    "from funasr import AutoModel \n",
    "from pathlib import  Path\n",
    "import json\n",
    "from openai import OpenAI"
   ]
  },
  {
   "cell_type": "code",
   "execution_count": 2,
   "metadata": {},
   "outputs": [
    {
     "name": "stdout",
     "output_type": "stream",
     "text": [
      "funasr version: 1.2.6.\n"
     ]
    },
    {
     "name": "stderr",
     "output_type": "stream",
     "text": [
      "Building prefix dict from the default dictionary ...\n",
      "DEBUG:jieba:Building prefix dict from the default dictionary ...\n",
      "Loading model from cache C:\\Users\\ICE_FL~1\\AppData\\Local\\Temp\\jieba.cache\n",
      "DEBUG:jieba:Loading model from cache C:\\Users\\ICE_FL~1\\AppData\\Local\\Temp\\jieba.cache\n",
      "Loading model cost 0.639 seconds.\n",
      "DEBUG:jieba:Loading model cost 0.639 seconds.\n",
      "Prefix dict has been built successfully.\n",
      "DEBUG:jieba:Prefix dict has been built successfully.\n"
     ]
    },
    {
     "name": "stdout",
     "output_type": "stream",
     "text": [
      "Detect model requirements, begin to install it: models/cam++\\requirements.txt\n",
      "install model requirements successfully\n"
     ]
    }
   ],
   "source": [
    "model = AutoModel(model=\"models/paraformer_zh\",vad_model=\"models/fsmn\",  punc_model=\"models/punc_ct\",  spk_model=\"models/cam++\",\\\n",
    "                   disable_update=True,device=\"cuda:0\")\n",
    "client = OpenAI(\n",
    "    api_key=\"sk-64a9aed1c4994164b03fc5f2df35cae7\",\n",
    "    base_url=\"https://dashscope.aliyuncs.com/compatible-mode/v1\"\n",
    ")"
   ]
  },
  {
   "cell_type": "code",
   "execution_count": 3,
   "metadata": {},
   "outputs": [],
   "source": [
    "def make_sumary(paragraph:str)->str|None:\n",
    "    completion = client.chat.completions.create(\n",
    "        model=\"qwen-plus\",\n",
    "        messages=[\n",
    "        {'role': 'system', 'content': \"你是电力公司的客服，请归纳用户和客服的对话，字数必须在10字以内，保持*简洁*的格式。例如，\\\n",
    "         客户想要申请临时电表。\\\n",
    "         客户咨询申请充电桩电表。\\\n",
    "         客户咨询停电什么时候结束。\"},\n",
    "        {'role': 'user', 'content': paragraph}\n",
    "        ]\n",
    "    )\n",
    "    return completion.choices[0].message.content\n",
    "\n",
    "def convert(input:str):\n",
    "    res = model.generate(input=input,)\n",
    "    slice_info=res[0]['sentence_info']\n",
    "    text=''\n",
    "    spk_id=0\n",
    "    talk=[]\n",
    "    for slice in slice_info:\n",
    "        if spk_id==slice['spk']:\n",
    "            text+=slice['text']\n",
    "        else:\n",
    "            talk.append({'spk':spk_id,'text':text})\n",
    "            text=slice['text']\n",
    "            spk_id=slice['spk']\n",
    "    talk.append({'spk': spk_id, 'text': text})\n",
    "\n",
    "    res=make_sumary(res[0]['text'])\n",
    "    return {'file_name':input.split('/')[-1],'talk':talk,'summary':res,'code':'successed'}\n",
    "\n",
    "def convert_records(record_file:str,save_type:str='json',output:str='result'):\n",
    "    \"\"\"\n",
    "    record_file: str, 语音文件或文件夹路径\n",
    "    save_type: str, 保存格式，json或txt，默认json\n",
    "    保存在文件或文件夹的 同级目录/result下\n",
    "    \"\"\"\n",
    "    #检查文件存在性\n",
    "    records=[]\n",
    "    supported_suffixes=['.mp3','.wav']\n",
    "    rf_path=Path(record_file)\n",
    "    if rf_path.is_file():\n",
    "        if rf_path.suffix not in supported_suffixes:\n",
    "            raise TypeError('not an audio file!')        \n",
    "        records.append(rf_path)  \n",
    "    elif rf_path.is_dir(): \n",
    "        for file in rf_path.iterdir():\n",
    "            if file.suffix in supported_suffixes:\n",
    "                records.append(file)\n",
    "    if len(records)==0:\n",
    "        raise FileNotFoundError('folder is empty!')\n",
    "    #语音转文字\n",
    "    save_path=rf_path.parent/output\n",
    "    if not save_path.exists():\n",
    "        save_path.mkdir()\n",
    "    for rf in records:\n",
    "        try: \n",
    "            res=convert(str(rf))\n",
    "        except  Exception as e:\n",
    "            print(f'文件{rf}转换失败，错误信息：{e}')\n",
    "            continue\n",
    "        with (save_path/ (rf.stem+'.json')).open('w', encoding='utf-8') as f:\n",
    "            json.dump(res, f, ensure_ascii=False, indent=4)\n",
    "    print(\"转换完成，保存结果到result文件夹。\")\n",
    "    return "
   ]
  },
  {
   "cell_type": "code",
   "execution_count": 4,
   "metadata": {},
   "outputs": [],
   "source": [
    "from fastapi import FastAPI, UploadFile, File\n",
    "from fastapi.responses import JSONResponse\n",
    "import shutil\n",
    "\n",
    "app = FastAPI()\n",
    "upload=Path(\"uploads\")\n",
    "upload.mkdir(exist_ok=True)\n",
    "@app.post(\"/upload\")\n",
    "async def transcribe_audio(file: UploadFile = File(...)):\n",
    "    save_path = upload/str(file.filename)\n",
    "    with open(save_path, \"wb\") as buffer:\n",
    "        shutil.copyfileobj(file.file, buffer)\n",
    "    result =convert(str(save_path))\n",
    "    return JSONResponse(content=result)"
   ]
  },
  {
   "cell_type": "code",
   "execution_count": 8,
   "metadata": {},
   "outputs": [],
   "source": [
    "#测试总结的提示词\n",
    "import json\n",
    "text_list=[]\n",
    "for f in Path('./data/result').iterdir():\n",
    "    json_text=json.load(f.open(encoding='utf-8'))\n",
    "    text=\"\".join([x['text'] for x in json_text['talk']])\n",
    "    text_list.append(text)\n"
   ]
  },
  {
   "cell_type": "code",
   "execution_count": null,
   "metadata": {},
   "outputs": [],
   "source": [
    "sum_list=list(map(make_sumary,text_list))\n",
    "import pandas as pd\n",
    "df=pd.DataFrame()\n",
    "df['summary']=sum_list\n",
    "df['raw_context']=text_list\n",
    "\n",
    "df['file']=list(Path('./data/result').iterdir())\n",
    "df['file']=df['file'].apply(lambda x:str(x).split('\\\\')[-1])\n",
    "\n",
    "df.to_excel('录音转文字.xlsx',index=False,columns=['file','summary','raw_context'])"
   ]
  }
 ],
 "metadata": {
  "kernelspec": {
   "display_name": "ice",
   "language": "python",
   "name": "python3"
  },
  "language_info": {
   "codemirror_mode": {
    "name": "ipython",
    "version": 3
   },
   "file_extension": ".py",
   "mimetype": "text/x-python",
   "name": "python",
   "nbconvert_exporter": "python",
   "pygments_lexer": "ipython3",
   "version": "3.12.3"
  }
 },
 "nbformat": 4,
 "nbformat_minor": 2
}
