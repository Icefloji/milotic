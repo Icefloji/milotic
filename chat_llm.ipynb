{
 "cells": [
  {
   "cell_type": "code",
   "execution_count": 284,
   "metadata": {},
   "outputs": [],
   "source": [
    "from langchain_community.llms import Tongyi\n",
    "from langchain_core.messages import HumanMessage ,AIMessage\n",
    "from langchain_core.chat_history import InMemoryChatMessageHistory\n",
    "from langchain_core.runnables.history import RunnableWithMessageHistory\n",
    "from langchain_core.prompts import ChatPromptTemplate, MessagesPlaceholder,PromptTemplate\n",
    "from langchain_core.runnables import RunnablePassthrough\n",
    "from langchain_core.prompt_values import PromptValue\n"
   ]
  },
  {
   "cell_type": "code",
   "execution_count": 285,
   "metadata": {},
   "outputs": [],
   "source": [
    "file_name='工作票1'\n",
    "with open(f'./data/工作票/{file_name}/rule2.json',encoding='utf-8') as f:\n",
    "    rule=f.read()\n",
    "with open(f'./data/工作票/{file_name}/instance.txt',encoding='utf-8') as f:\n",
    "    doc=f.read()"
   ]
  },
  {
   "cell_type": "code",
   "execution_count": 286,
   "metadata": {},
   "outputs": [
    {
     "data": {
      "text/plain": [
       "[SystemMessage(content=\"you're a good assistant\", additional_kwargs={}, response_metadata={})]"
      ]
     },
     "execution_count": 286,
     "metadata": {},
     "output_type": "execute_result"
    }
   ],
   "source": [
    "from langchain_core.messages import SystemMessage, trim_messages\n",
    "model=Tongyi(model='qwen-max',temperature =0.3)\n",
    "messages = [\n",
    "    SystemMessage(content=\"you're a good assistant\"),\n",
    "    HumanMessage(content=\"hi! I'm bob\"),\n",
    "    AIMessage(content=\"hi!\"),\n",
    "    HumanMessage(content=\"I like vanilla ice cream\"),\n",
    "    AIMessage(content=\"nice\"),\n",
    "    HumanMessage(content=\"whats 2 + 2\"),\n",
    "    AIMessage(content=\"4\"),\n",
    "    HumanMessage(content=\"thanks\"),\n",
    "    AIMessage(content=\"no problem!\"),\n",
    "    HumanMessage(content=\"having fun?\"),\n",
    "    AIMessage(content=\"yes!\"),\n",
    "]\n",
    "trim_messages(\n",
    "    messages,\n",
    "    max_tokens=5,\n",
    "    strategy=\"last\",\n",
    "    token_counter=model,\n",
    "    include_system=True,\n",
    "    allow_partial=False,\n",
    "    start_on=\"human\",\n",
    ")"
   ]
  },
  {
   "cell_type": "code",
   "execution_count": 287,
   "metadata": {},
   "outputs": [],
   "source": [
    "from langchain_core.runnables import RunnableLambda\n",
    "\n",
    "prompt = ChatPromptTemplate.from_messages([\n",
    "        (\"system\",\"你是一个文档校对助手\",),\n",
    "        MessagesPlaceholder(variable_name=\"history\"),\n",
    "        (\"human\", \"{question}\"),\n",
    "    ]\n",
    ")\n",
    "chain = prompt | model"
   ]
  },
  {
   "cell_type": "code",
   "execution_count": 288,
   "metadata": {},
   "outputs": [],
   "source": [
    "store = {}\n",
    "\n",
    "def get_session_history(session_id: str):\n",
    "    if session_id not in store:\n",
    "        store[session_id] = InMemoryChatMessageHistory()\n",
    "    return store[session_id]\n",
    "\n",
    "with_message_history = RunnableWithMessageHistory(\n",
    "    chain,\n",
    "    get_session_history,\n",
    "    input_messages_key='question',\n",
    "    history_messages_key='history'\n",
    ")\n",
    "def ask(question:str|PromptValue,id:str='abc2'):\n",
    "    for r in with_message_history.stream(\n",
    "        {'question':question},\n",
    "        config= {\"configurable\": {\"session_id\": id}}\n",
    "    ):\n",
    "        print(r,end='')"
   ]
  },
  {
   "cell_type": "code",
   "execution_count": 290,
   "metadata": {},
   "outputs": [
    {
     "name": "stdout",
     "output_type": "stream",
     "text": [
      "根据提供的文档和规则，我将逐一检查并给出校对结果。\n",
      "\n",
      "### 检查过程：\n",
      "\n",
      "1. **工作班成员**\n",
      "   - 文档中列出的成员有5位（傅东根，李强，李林，徐贵强，张三），但总数标注为“共3人”，这里存在不一致。按照规则，当人数等于5时，并不需要添加“等”字，但签名人数应该准确反映实际人数。\n",
      "   - 问题：总人数描述与实际不符。\n",
      "   \n",
      "2. **停电线路名称**\n",
      "   - 文档中的停电线路名为“10KV季宅”。这不符合规则要求，因为没有明确写出完整的双重名称形式（地点+大写字母/数字+线）。\n",
      "   - 问题：缺少具体的双重名称格式。\n",
      "\n",
      "3. **工作任务.工作地点**\n",
      "   - 工作地点描述符合规则，包括了电压等级、线路双重名称以及起止杆号，且使用了“至”连接起始和终止位置。\n",
      "   - 无问题。\n",
      "\n",
      "4. **计划工作时间**\n",
      "   - 计划时间为自2025-08-02 08:00:00 至 2025-04-02 16:00:00，显然开始时间晚于结束时间，违反了规则。\n",
      "   - 问题：开始时间晚于结束时间。\n",
      "\n",
      "### 输出结果\n",
      "\n",
      "```json\n",
      "[\n",
      "    {\n",
      "        \"node\": \"2\",\n",
      "        \"rule\": \"1\",\n",
      "        \"explain\": \"实际人数与总数标注不符\",\n",
      "        \"suggestion\": \"修正总人数或人员名单\"\n",
      "    },\n",
      "    {\n",
      "        \"node\": \"停电线路名称\",\n",
      "        \"rule\": \"2\",\n",
      "        \"explain\": \"未按规则提供完整双重名称\",\n",
      "        \"suggestion\": \"补充正确的双重名称\"\n",
      "    },\n",
      "    {\n",
      "        \"node\": \"4\",\n",
      "        \"rule\": \"4\",\n",
      "        \"explain\": \"开始时间晚于结束时间\",\n",
      "        \"suggestion\": \"调整计划工作时间\"\n",
      "    }\n",
      "]\n",
      "```\n",
      "\n",
      "以上是基于给定规则对文档进行检查后的反馈。"
     ]
    }
   ],
   "source": [
    "question=f\"\"\"\n",
    "## 任务\n",
    "请检查以下*文档*是否符合给定*规则*。每条只检测规则中的【】项。如果项内容为空，则跳过检测。\n",
    "##规则\n",
    "{rule}\n",
    "##文档\n",
    "{doc}\n",
    "##输出*json格式*的结果。例如\n",
    "[{{\n",
    "'node':'1',\n",
    " 'rule':'2',\n",
    " '\",'',\n",
    " 'explain':'天数为20天，超出规则设定的15天'（字数不超过10个）\n",
    "'suggestion':'检查天数是否填写错误'}}\n",
    "]\n",
    "其中node代表错误项，rule代表匹配的规则，explain代表详细的解释。如果没有错误，则跳过此项。\n",
    "\"\"\"\n",
    "store={}\n",
    "ask(question=question)"
   ]
  },
  {
   "cell_type": "code",
   "execution_count": 291,
   "metadata": {},
   "outputs": [],
   "source": [
    "\n",
    "# rule_template=PromptTemplate.from_template('修改规则，令规则{ru}能满足示例{example}')\n",
    "# ask(rule_template.invoke({'ru':'【工作任务】。检查工作地点栏是否填写规范，要有 电压等级（数字+kV）、线路双重名称（地点+大写字母+数字+线）、线路杆号（数字+杆）。例如，10kV季宅B918线14杆）'\\\n",
    "#                           ,'example':'10kV里金555线96+1号杆至芹溪村2号变支线2号杆'}))"
   ]
  }
 ],
 "metadata": {
  "kernelspec": {
   "display_name": "ice",
   "language": "python",
   "name": "python3"
  },
  "language_info": {
   "codemirror_mode": {
    "name": "ipython",
    "version": 3
   },
   "file_extension": ".py",
   "mimetype": "text/x-python",
   "name": "python",
   "nbconvert_exporter": "python",
   "pygments_lexer": "ipython3",
   "version": "3.12.3"
  }
 },
 "nbformat": 4,
 "nbformat_minor": 2
}
