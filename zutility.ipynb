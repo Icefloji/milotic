{
 "cells": [
  {
   "cell_type": "markdown",
   "metadata": {},
   "source": [
    "pdf转txt"
   ]
  },
  {
   "cell_type": "code",
   "execution_count": null,
   "metadata": {},
   "outputs": [],
   "source": [
    "import PyPDF2\n",
    "\n",
    "def extract_text_from_pdf(pdf_path):\n",
    "    \"\"\"Extract text from a PDF file.\"\"\"\n",
    "    text = \"\"\n",
    "    with open(pdf_path, 'rb') as file:\n",
    "        reader = PyPDF2.PdfReader(file)\n",
    "        for page in reader.pages:\n",
    "            text += page.extract_text()\n",
    "    return text\n",
    "\n",
    "pdf_path = 'data/供电规则.pdf'  # Replace with your PDF file path\n",
    "text = extract_text_from_pdf(pdf_path).replace('\\n','')\n",
    "# Save the extracted text to a file\n",
    "with open('data/供电规则.txt', 'w', encoding='utf-8') as f:\n",
    "    f.write(text) "
   ]
  },
  {
   "cell_type": "markdown",
   "metadata": {},
   "source": [
    "#简单openai"
   ]
  },
  {
   "cell_type": "code",
   "execution_count": 1,
   "metadata": {},
   "outputs": [],
   "source": [
    "import os\n",
    "from openai import OpenAI\n",
    "client = OpenAI(\n",
    "    # 若没有配置环境变量，请用百炼API Key将下行替换为：api_key=\"sk-xxx\",\n",
    "    api_key=os.getenv(\"DASHSCOPE_API_KEY\"),\n",
    "    base_url=\"https://dashscope.aliyuncs.com/compatible-mode/v1\",\n",
    ")\n"
   ]
  },
  {
   "cell_type": "code",
   "execution_count": 24,
   "metadata": {},
   "outputs": [],
   "source": [
    "import pandas as pd\n",
    "df=pd.read_excel('./address/外联-1.xlsx')['故障地址'][:100]\n",
    "text=[]\n"
   ]
  },
  {
   "cell_type": "code",
   "execution_count": 28,
   "metadata": {},
   "outputs": [],
   "source": [
    "question=\",\".join(df)\n",
    "completion = client.chat.completions.create(\n",
    "        model=\"qwen-turbo\",\n",
    "        messages=[\n",
    "            {\"role\": \"system\", \"content\": \"拆分地址,输出json格式\"},\n",
    "            {\"role\": \"user\", \"content\": question},\n",
    "        ],\n",
    "    )\n",
    "text.append(completion.choices[0].message.content)"
   ]
  },
  {
   "cell_type": "code",
   "execution_count": 30,
   "metadata": {},
   "outputs": [
    {
     "name": "stdout",
     "output_type": "stream",
     "text": [
      "['```json\\n{\\n  \"issues\": [\\n    {\\n      \"location\": \"大陈杜门村\",\\n      \"description\": \"需要拆分地址并输出JSON格式\"\\n    },\\n    {\\n      \"location\": \"佛堂稽亭村\",\\n      \"description\": \"需要拆分地址并输出JSON格式\"\\n    },\\n    {\\n      \"location\": \"北苑街道园丁新村9栋1单元402\",\\n      \"description\": \"需要拆分地址并输出JSON格式\"\\n    },\\n    {\\n      \"location\": \"义亭镇石塔二村682号\",\\n      \"description\": \"需要拆分地址并输出JSON格式\"\\n    },\\n    {\\n      \"location\": \"上坑仁行政村仁宅自然村68号\",\\n      \"description\": \"需要拆分地址并输出JSON格式\"\\n    },\\n    {\\n      \"location\": \"塔山乡镇府\",\\n      \"description\": \"少了一相电\"\\n    },\\n    {\\n      \"location\": \"田心三村37号\",\\n      \"description\": \"没电\"\\n    },\\n    {\\n      \"location\": \"陪德路105号\",\\n      \"description\": \"没电\"\\n    },\\n    {\\n      \"location\": \"张浒老村操场处\",\\n      \"description\": \"无门牌号\"\\n    },\\n    {\\n      \"location\": \"雅西村\",\\n      \"description\": \"用户没电\"\\n    },\\n    {\\n      \"location\": \"张宅二村张益荣\",\\n      \"description\": \"需要拆分地址并输出JSON格式\"\\n    },\\n    {\\n      \"location\": \"浙江省金华市义乌市苏溪镇上娄行政村上娄自然村村前\",\\n      \"description\": \"需要拆分地址并输出JSON格式\"\\n    },\\n    {\\n      \"location\": \"苏溪上单499号\",\\n      \"description\": \"没电\"\\n    },\\n    {\\n      \"location\": \"佛堂下寺15号\",\\n      \"description\": \"电表箱着火\"\\n    },\\n    {\\n      \"location\": \"佛堂后力山153号\",\\n      \"description\": \"需要拆分地址并输出JSON格式\"\\n    },\\n    {\\n      \"location\": \"义亭镇前屋村西塘自然村\",\\n      \"description\": \"需要拆分地址并输出JSON格式\"\\n    },\\n    {\\n      \"location\": \"佛堂镇古塘村2号\",\\n      \"description\": \"用户没电\"\\n    },\\n    {\\n      \"location\": \"义亭镇王阡二村老年协会\",\\n      \"description\": \"需要拆分地址并输出JSON格式\"\\n    },\\n    {\\n      \"location\": \"苏溪镇下新屋村17号\",\\n      \"description\": \"需要拆分地址并输出JSON格式       },\\n    {\\n      \"location\": \"佛堂镇荷花路34号\",\\n      \"description\": \"需要拆分地址并输出JSON格式\"\\n    },\\n    {\\n      \"location\": \"岭背新区19栋5单元\",\\n      \"description\": \"需要拆分地址并输出JSON格式\"\\n    },\\n    {\\n      \"location\": \"苏溪镇蜜溪村223号\",\\n      \"description\": \"需要拆分地址并输出JSON格式\"\\n    },\\n    {\\n      \"location\": \"义亭镇铜山前村131号\",\\n      \"description\": \"需要拆分地址并输出JSON格式\"\\n    },\\n    {\\n      \"location\": \"畈田朱村289号\",\\n      \"description\": \"需要拆分地址并输出JSON格式\"\\n    },\\n    {\\n      \"location\": \"稠江四海大道123后面后面\",\\n      \"description\": \"变压器冒烟，铁有点红\"\\n    },\\n    {\\n      \"location\": \"佛堂小六石104号\",\\n      \"description\": \"电线烧掉\"\\n    },\\n    {\\n      \"location\": \"佛堂镇上村\",\\n      \"description\": \"电表烧掉了\"\\n    },\\n    {\\n      \"location\": \"义亭镇全村五联路242号\",\\n      \"description\": \"需要拆分地址并输出JSON格式\"\\n    },\\n    {\\n      \"location\": \"义亭镇石塔一村30号\",\\n      \"description\": \"整栋无电\"\\n    },\\n    {\\n      \"location\": \"苏溪镇鑫苑小区4幢1单元\",\\n      \"description\": \"没电\"\\n    },\\n    {\\n      \"location\": \"北苑拥军2区2栋五单元\",\\n      \"description\": \"缺相，未跳闸\"\\n    },\\n    {\\n      \"location\": \"义亭镇石塔二区42号\",\\n      \"description\": \"电表烧掉了\"\\n    },\\n    {\\n      \"location\": \"义乌市福田尚经二区110号\",\\n      \"description\": \"有人把衣服挂电线上晒\"\\n    },\\n    {\\n      \"location\": \"义乌佛佛堂镇三角潭37号\",\\n      \"description\": \"需要拆分地址并输出JSON格式\"\\n    },\\n    {\\n      \"location\": \"苏溪镇前徐村42号\",\\n      \"description\": \"需要拆分地址并输出JSON格式\"\\n    },\\n    {\\n      \"location\": \"义亭山景村\",\\n      \"description\": \"需要拆分地址并输出JSON格式\"\\n    },\\n    {\\n      \"location\": \"佛堂三角店148号\",\\n      \"description\": \"失电，联系电话18069940091\"\\n    },\\n    {\\n      \"location\": \"义亭镇铜山前260号\",\\n      \"description\": \"需要拆分地址并输出JSON格式\"\\n    },\\n    {\\n      \"location\": \"佛堂寺前街18号\",\\n      \"description\": \"需要拆分地址并输出JSON格式\"\\n    },\\n    {\\n      \"location\": \"龙祈路与高浒路交叉口\",\\n      \"description\": \"最近总是跳闸停电，是否电箱进水？\"\\n    },\\n    {\\n      \"location\": \"佛堂镇林山村\",\\n      \"description\": \"需要拆分地址并输出JSON格式\"\\n    },\\n    {\\n      \"location\": \"大陈镇团结行政村团结自然村新区\",\\n      \"description\": \"需要拆分地址并输出JSON格式\"\\n    },\\n    {\\n      \"location\": \"佛堂镇后连山新村5号\",\\n      \"description\": \"需要拆分并并输出JSON格式\"\\n    },\\n    {\\n      \"location\": \"义亭镇铜山前152号\",\\n      \"description\": \"需要拆分地址并输出JSON格式\"\\n    },\\n    {\\n      \"location\": \"福田街道殿前村上塘顶72号\",\\n      \"description\": \"需要拆分地址并输出JSON格式\"\\n    },\\n    {\\n      \"location\": \"义亭镇重阳路7号\",\\n      \"description\": \"需要拆分地址并输出JSON格式\"\\n    },\\n    {\\n      \"location\": \"苏溪镇塘里蒋77栋3单元\",\\n      \"description\": \"需要拆分地址并输出JSON格式\"\\n    },\\n    {\\n      \"location\": \"佛堂镇蓓蕾四村香山北路9号\",\\n      \"description\": \"需要拆分地址并输出JSON格式\"\\n    },\\n    {\\n      \"location\": \"大陈镇马畈村\",\\n      \"description\": \"电表烧了\"\\n    },\\n    {\\n      \"location\": \"义亭镇何店村长塘20号\",\\n      \"description\": \"电表空开坏了\"\\n    },\\n    {\\n      \"location\": \"大陈镇东联村\",\\n      \"description\": \"需要拆分地址并输出JSON格式\"\\n    },\\n    {\\n      \"location\": \"佛堂张宅三村65号\",\\n      \"description\": \"需要拆分地址并输出JSON格式\"\\n    },\\n    {\\n      \"location\": \"佛堂镇新塘西村\",\\n      \"description\": \"无电\"\\n    },\\n    {\\n      \"location\": \"大陈镇九户口村\",\\n      \"description\": \"电表烧掉了\"\\n    },\\n    {\\n      \"location\": \"苏溪镇里宅一区17幢3单元\",\\n      \"description\": \"电表坏了\"\\n    },\\n    {\\n      \"location\": \"大陈镇百山村\",\\n      \"description\": \"电线移位\"\\n    },\\n    {\\n      \"location\": \"苏溪兴二村\",\\n      \"description\": \"电表烧掉了\"\\n    },\\n    {\\n      \"location\": \"苏溪镇乐乐村21号\",\\n      \"description\": \"空气开关跳闸\"\\n    },\\n    {\\n      \"location\": \"佛堂镇花园口村3号\",\\n      \"description\": \"电表爆掉了\"\\n    },\\n    {\\n      \"location\": \"佛堂镇塔山路156号\",\\n      \"description\": \"没电\"\\n    },\\n    {\\n      \"location\": \"苏溪岭背2号\",\\n      \"description\": \"缺相，联系电话13575948539\"\\n    },\\n    {\\n      \"location\": \"佛堂下西村\",\\n      \"description\": \"电表异响后失电，联系电话13958426281\"\\n    },\\n    {\\n      \"location\": \"佛堂田心一村971号\",\\n      \"description\": \"需要拆分地址并输出JSON格式\"\\n    },\\n    {\\n      \"location\": \"义亭鲍宅村178号\",\\n      \"description\": \"电表箱着火有明火，联系电话13566796400\"\\n    },\\n    {\\n      \"location\": \"义乌市北苑街道机场路和柳青岔开龙湖工地宿舍楼\",\\n      \"description\": \"工地不供电晚上睡觉太冷了，是否供电公司断电还是说坏了\"\\n    }\\n  ]\\n}\\n```']\n"
     ]
    }
   ],
   "source": [
    "print(text)"
   ]
  },
  {
   "cell_type": "code",
   "execution_count": null,
   "metadata": {},
   "outputs": [],
   "source": [
    "\n",
    "for item in df:\n",
    "    address=item\n",
    "    question=f\"拆分地址：{address}\"\n",
    "    completion = client.chat.completions.create(\n",
    "        model=\"qwen-turbo\",\n",
    "        messages=[\n",
    "            {\"role\": \"system\", \"content\": \"拆分地址,输出json格式\"},\n",
    "            {\"role\": \"user\", \"content\": question},\n",
    "        ],\n",
    "    )\n",
    "    text.append(completion.choices[0].message.content)\n",
    "with open('1.txt','r') as f:\n",
    "    f.write(\"\\n\".join(text))"
   ]
  },
  {
   "cell_type": "code",
   "execution_count": 23,
   "metadata": {},
   "outputs": [],
   "source": [
    "with open('1.txt','w') as f:\n",
    "    f.writelines(text)"
   ]
  },
  {
   "cell_type": "code",
   "execution_count": null,
   "metadata": {},
   "outputs": [],
   "source": [
    "address=\"\"\n",
    "question=f\"拆分地址：{address}\"\n",
    "completion = client.chat.completions.create(\n",
    "    model=\"qwen-turbo\",\n",
    "    messages=[\n",
    "        {\"role\": \"system\", \"content\": \"拆分地址,输出json格式\"},\n",
    "        {\"role\": \"user\", \"content\": question},\n",
    "    ],\n",
    ")\n",
    "print(completion.choices[0].message.content)\n"
   ]
  },
  {
   "cell_type": "markdown",
   "metadata": {},
   "source": [
    "提示词模板"
   ]
  },
  {
   "cell_type": "code",
   "execution_count": null,
   "metadata": {},
   "outputs": [],
   "source": [
    "from langchain.prompts import PromptTemplate\n",
    "\n",
    "template = \"请用一句话描述一下 {topic}。\"\n",
    "prompt = PromptTemplate(input_variables=[\"topic\"], template=template)\n",
    "\n",
    "formatted_prompt = prompt.format(topic=\"人工智能\")\n",
    "print(formatted_prompt)"
   ]
  }
 ],
 "metadata": {
  "kernelspec": {
   "display_name": "ice",
   "language": "python",
   "name": "python3"
  },
  "language_info": {
   "codemirror_mode": {
    "name": "ipython",
    "version": 3
   },
   "file_extension": ".py",
   "mimetype": "text/x-python",
   "name": "python",
   "nbconvert_exporter": "python",
   "pygments_lexer": "ipython3",
   "version": "3.12.3"
  }
 },
 "nbformat": 4,
 "nbformat_minor": 2
}
