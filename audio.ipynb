{
 "cells": [
  {
   "cell_type": "code",
   "execution_count": 128,
   "metadata": {},
   "outputs": [],
   "source": [
    "from funasr import AutoModel \n",
    "from pathlib import  Path\n",
    "import json\n",
    "from openai import OpenAI\n"
   ]
  },
  {
   "cell_type": "code",
   "execution_count": 129,
   "metadata": {},
   "outputs": [
    {
     "name": "stdout",
     "output_type": "stream",
     "text": []
    }
   ],
   "source": [
    "\n",
    "model = AutoModel(model=\"models/paraformer_zh\",vad_model=\"models/fsmn\",  punc_model=\"models/punc_ct\",  spk_model=\"models/cam++\",\n",
    "                   disable_update=True,device=\"cuda:0\")\n",
    "client = OpenAI(\n",
    "    api_key=\"sk-64a9aed1c4994164b03fc5f2df35cae7\",\n",
    "    base_url=\"https://dashscope.aliyuncs.com/compatible-mode/v1\"\n",
    ")"
   ]
  },
  {
   "cell_type": "code",
   "execution_count": null,
   "metadata": {},
   "outputs": [],
   "source": [
    "def convert(input:str):\n",
    "    res = model.generate(input=input,)\n",
    "    slice_info=res[0]['sentence_info']\n",
    "    text=''\n",
    "    spk_id=0\n",
    "    talk=[]\n",
    "    for slice in slice_info:\n",
    "        if spk_id==slice['spk']:\n",
    "            text+=slice['text']\n",
    "        else:\n",
    "            talk.append({'spk':spk_id,'text':text})\n",
    "            text=slice['text']\n",
    "            spk_id=slice['spk']\n",
    "    talk.append({'spk': spk_id, 'text': text})\n",
    "    #总结段落\n",
    "    passage=res[0]['text']\n",
    "    completion = client.chat.completions.create(\n",
    "        model=\"qwen-plus\",\n",
    "        messages=[\n",
    "        {'role': 'system', 'content': \"使用简洁的语言概况通话内容。\"},\n",
    "        {'role': 'user', 'content': passage}\n",
    "        ]\n",
    "    )\n",
    "    res=completion.choices[0].message.content\n",
    "    return {'file_name':input.split('/')[-1],'talk':talk,'summary':res,'code':'successed'}\n",
    "\n",
    "def convert_records(record_file:str,save_type:str='json',output:str='result'):\n",
    "    \"\"\"\n",
    "    record_file: str, 语音文件或文件夹路径\n",
    "    save_type: str, 保存格式，json或txt，默认json\n",
    "    保存在文件或文件夹的 同级目录/result下\n",
    "    \"\"\"\n",
    "    #检查文件存在性\n",
    "    records=[]\n",
    "    supported_suffixes=['.mp3','.wav']\n",
    "    rf_path=Path(record_file)\n",
    "    if rf_path.is_file():\n",
    "        if rf_path.suffix not in supported_suffixes:\n",
    "            raise TypeError('not an audio file!')        \n",
    "        records.append(rf_path)  \n",
    "    elif rf_path.is_dir(): \n",
    "        for file in rf_path.iterdir():\n",
    "            if file.suffix in supported_suffixes:\n",
    "                records.append(file)\n",
    "    if len(records)==0:\n",
    "        raise FileNotFoundError('folder is empty!')\n",
    "    #语音转文字\n",
    "    save_path=rf_path.parent/output\n",
    "    if not save_path.exists():\n",
    "        save_path.mkdir()\n",
    "    for rf in records:\n",
    "        try: \n",
    "            res=convert(str(rf))\n",
    "        except  Exception as e:\n",
    "            print(f'文件{rf}转换失败，错误信息：{e}')\n",
    "            continue\n",
    "        with (save_path/ (rf.stem+'.json')).open('w', encoding='utf-8') as f:\n",
    "            json.dump(res, f, ensure_ascii=False, indent=4)\n",
    "    print(\"转换完成，保存结果到result文件夹。\")\n",
    "    return \n",
    "\n",
    "# fff=convert_records('./data/222')\n"
   ]
  },
  {
   "cell_type": "code",
   "execution_count": 130,
   "metadata": {},
   "outputs": [
    {
     "name": "stdout",
     "output_type": "stream",
     "text": []
    },
    {
     "name": "stdout",
     "output_type": "stream",
     "text": []
    },
    {
     "name": "stdout",
     "output_type": "stream",
     "text": []
    }
   ],
   "source": [
    "convert_records('./data/222/7.mp3')"
   ]
  }
 ],
 "metadata": {
  "kernelspec": {
   "display_name": "ice",
   "language": "python",
   "name": "python3"
  },
  "language_info": {
   "codemirror_mode": {
    "name": "ipython",
    "version": 3
   },
   "file_extension": ".py",
   "mimetype": "text/x-python",
   "name": "python",
   "nbconvert_exporter": "python",
   "pygments_lexer": "ipython3",
   "version": "3.12.3"
  }
 },
 "nbformat": 4,
 "nbformat_minor": 2
}
